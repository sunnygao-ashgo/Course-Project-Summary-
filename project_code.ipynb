{
 "cells": [
  {
   "cell_type": "markdown",
   "metadata": {
    "id": "p0cR4MR80mkY"
   },
   "source": [
    "<h3>Import data</h3>"
   ]
  },
  {
   "cell_type": "code",
   "execution_count": 106,
   "metadata": {
    "colab": {
     "base_uri": "https://localhost:8080/",
     "height": 313
    },
    "id": "lIasgYFG0mkY",
    "outputId": "f989641a-0cca-4619-9544-0affd71ab9b3"
   },
   "outputs": [
    {
     "data": {
      "text/html": [
       "<div>\n",
       "<style scoped>\n",
       "    .dataframe tbody tr th:only-of-type {\n",
       "        vertical-align: middle;\n",
       "    }\n",
       "\n",
       "    .dataframe tbody tr th {\n",
       "        vertical-align: top;\n",
       "    }\n",
       "\n",
       "    .dataframe thead th {\n",
       "        text-align: right;\n",
       "    }\n",
       "</style>\n",
       "<table border=\"1\" class=\"dataframe\">\n",
       "  <thead>\n",
       "    <tr style=\"text-align: right;\">\n",
       "      <th></th>\n",
       "      <th>Age</th>\n",
       "      <th>Attrition</th>\n",
       "      <th>BusinessTravel</th>\n",
       "      <th>DailyRate</th>\n",
       "      <th>Department</th>\n",
       "      <th>DistanceFromHome</th>\n",
       "      <th>Education</th>\n",
       "      <th>EducationField</th>\n",
       "      <th>EmployeeCount</th>\n",
       "      <th>EmployeeNumber</th>\n",
       "      <th>...</th>\n",
       "      <th>RelationshipSatisfaction</th>\n",
       "      <th>StandardHours</th>\n",
       "      <th>StockOptionLevel</th>\n",
       "      <th>TotalWorkingYears</th>\n",
       "      <th>TrainingTimesLastYear</th>\n",
       "      <th>WorkLifeBalance</th>\n",
       "      <th>YearsAtCompany</th>\n",
       "      <th>YearsInCurrentRole</th>\n",
       "      <th>YearsSinceLastPromotion</th>\n",
       "      <th>YearsWithCurrManager</th>\n",
       "    </tr>\n",
       "  </thead>\n",
       "  <tbody>\n",
       "    <tr>\n",
       "      <th>0</th>\n",
       "      <td>41</td>\n",
       "      <td>Yes</td>\n",
       "      <td>Travel_Rarely</td>\n",
       "      <td>1102</td>\n",
       "      <td>Sales</td>\n",
       "      <td>1</td>\n",
       "      <td>2</td>\n",
       "      <td>Life Sciences</td>\n",
       "      <td>1</td>\n",
       "      <td>1</td>\n",
       "      <td>...</td>\n",
       "      <td>1</td>\n",
       "      <td>80</td>\n",
       "      <td>0</td>\n",
       "      <td>8</td>\n",
       "      <td>0</td>\n",
       "      <td>1</td>\n",
       "      <td>6</td>\n",
       "      <td>4</td>\n",
       "      <td>0</td>\n",
       "      <td>5</td>\n",
       "    </tr>\n",
       "    <tr>\n",
       "      <th>1</th>\n",
       "      <td>49</td>\n",
       "      <td>No</td>\n",
       "      <td>Travel_Frequently</td>\n",
       "      <td>279</td>\n",
       "      <td>Research &amp; Development</td>\n",
       "      <td>8</td>\n",
       "      <td>1</td>\n",
       "      <td>Life Sciences</td>\n",
       "      <td>1</td>\n",
       "      <td>2</td>\n",
       "      <td>...</td>\n",
       "      <td>4</td>\n",
       "      <td>80</td>\n",
       "      <td>1</td>\n",
       "      <td>10</td>\n",
       "      <td>3</td>\n",
       "      <td>3</td>\n",
       "      <td>10</td>\n",
       "      <td>7</td>\n",
       "      <td>1</td>\n",
       "      <td>7</td>\n",
       "    </tr>\n",
       "    <tr>\n",
       "      <th>2</th>\n",
       "      <td>37</td>\n",
       "      <td>Yes</td>\n",
       "      <td>Travel_Rarely</td>\n",
       "      <td>1373</td>\n",
       "      <td>Research &amp; Development</td>\n",
       "      <td>2</td>\n",
       "      <td>2</td>\n",
       "      <td>Other</td>\n",
       "      <td>1</td>\n",
       "      <td>4</td>\n",
       "      <td>...</td>\n",
       "      <td>2</td>\n",
       "      <td>80</td>\n",
       "      <td>0</td>\n",
       "      <td>7</td>\n",
       "      <td>3</td>\n",
       "      <td>3</td>\n",
       "      <td>0</td>\n",
       "      <td>0</td>\n",
       "      <td>0</td>\n",
       "      <td>0</td>\n",
       "    </tr>\n",
       "    <tr>\n",
       "      <th>3</th>\n",
       "      <td>33</td>\n",
       "      <td>No</td>\n",
       "      <td>Travel_Frequently</td>\n",
       "      <td>1392</td>\n",
       "      <td>Research &amp; Development</td>\n",
       "      <td>3</td>\n",
       "      <td>4</td>\n",
       "      <td>Life Sciences</td>\n",
       "      <td>1</td>\n",
       "      <td>5</td>\n",
       "      <td>...</td>\n",
       "      <td>3</td>\n",
       "      <td>80</td>\n",
       "      <td>0</td>\n",
       "      <td>8</td>\n",
       "      <td>3</td>\n",
       "      <td>3</td>\n",
       "      <td>8</td>\n",
       "      <td>7</td>\n",
       "      <td>3</td>\n",
       "      <td>0</td>\n",
       "    </tr>\n",
       "    <tr>\n",
       "      <th>4</th>\n",
       "      <td>27</td>\n",
       "      <td>No</td>\n",
       "      <td>Travel_Rarely</td>\n",
       "      <td>591</td>\n",
       "      <td>Research &amp; Development</td>\n",
       "      <td>2</td>\n",
       "      <td>1</td>\n",
       "      <td>Medical</td>\n",
       "      <td>1</td>\n",
       "      <td>7</td>\n",
       "      <td>...</td>\n",
       "      <td>4</td>\n",
       "      <td>80</td>\n",
       "      <td>1</td>\n",
       "      <td>6</td>\n",
       "      <td>3</td>\n",
       "      <td>3</td>\n",
       "      <td>2</td>\n",
       "      <td>2</td>\n",
       "      <td>2</td>\n",
       "      <td>2</td>\n",
       "    </tr>\n",
       "  </tbody>\n",
       "</table>\n",
       "<p>5 rows × 35 columns</p>\n",
       "</div>"
      ],
      "text/plain": [
       "   Age Attrition     BusinessTravel  DailyRate              Department  \\\n",
       "0   41       Yes      Travel_Rarely       1102                   Sales   \n",
       "1   49        No  Travel_Frequently        279  Research & Development   \n",
       "2   37       Yes      Travel_Rarely       1373  Research & Development   \n",
       "3   33        No  Travel_Frequently       1392  Research & Development   \n",
       "4   27        No      Travel_Rarely        591  Research & Development   \n",
       "\n",
       "   DistanceFromHome  Education EducationField  EmployeeCount  EmployeeNumber  \\\n",
       "0                 1          2  Life Sciences              1               1   \n",
       "1                 8          1  Life Sciences              1               2   \n",
       "2                 2          2          Other              1               4   \n",
       "3                 3          4  Life Sciences              1               5   \n",
       "4                 2          1        Medical              1               7   \n",
       "\n",
       "   ...  RelationshipSatisfaction StandardHours  StockOptionLevel  \\\n",
       "0  ...                         1            80                 0   \n",
       "1  ...                         4            80                 1   \n",
       "2  ...                         2            80                 0   \n",
       "3  ...                         3            80                 0   \n",
       "4  ...                         4            80                 1   \n",
       "\n",
       "   TotalWorkingYears  TrainingTimesLastYear WorkLifeBalance  YearsAtCompany  \\\n",
       "0                  8                      0               1               6   \n",
       "1                 10                      3               3              10   \n",
       "2                  7                      3               3               0   \n",
       "3                  8                      3               3               8   \n",
       "4                  6                      3               3               2   \n",
       "\n",
       "  YearsInCurrentRole  YearsSinceLastPromotion  YearsWithCurrManager  \n",
       "0                  4                        0                     5  \n",
       "1                  7                        1                     7  \n",
       "2                  0                        0                     0  \n",
       "3                  7                        3                     0  \n",
       "4                  2                        2                     2  \n",
       "\n",
       "[5 rows x 35 columns]"
      ]
     },
     "execution_count": 106,
     "metadata": {},
     "output_type": "execute_result"
    }
   ],
   "source": [
    "add = \"rawdata.csv\"\n",
    "import pandas as pd\n",
    "from pandas import DataFrame\n",
    "df = pd.read_csv(add,sep=',')\n",
    "df.head()\n",
    "# dependent variable: attrition"
   ]
  },
  {
   "cell_type": "code",
   "execution_count": 107,
   "metadata": {
    "colab": {
     "base_uri": "https://localhost:8080/"
    },
    "id": "GNP5d_Fh0mkY",
    "outputId": "ae519b76-ef38-468f-e9bf-a9a0dad920e7"
   },
   "outputs": [
    {
     "data": {
      "text/plain": [
       "Age                         0\n",
       "Attrition                   0\n",
       "BusinessTravel              0\n",
       "DailyRate                   0\n",
       "Department                  0\n",
       "DistanceFromHome            0\n",
       "Education                   0\n",
       "EducationField              0\n",
       "EmployeeCount               0\n",
       "EmployeeNumber              0\n",
       "EnvironmentSatisfaction     0\n",
       "Gender                      0\n",
       "HourlyRate                  0\n",
       "JobInvolvement              0\n",
       "JobLevel                    0\n",
       "JobRole                     0\n",
       "JobSatisfaction             0\n",
       "MaritalStatus               0\n",
       "MonthlyIncome               0\n",
       "MonthlyRate                 0\n",
       "NumCompaniesWorked          0\n",
       "Over18                      0\n",
       "OverTime                    0\n",
       "PercentSalaryHike           0\n",
       "PerformanceRating           0\n",
       "RelationshipSatisfaction    0\n",
       "StandardHours               0\n",
       "StockOptionLevel            0\n",
       "TotalWorkingYears           0\n",
       "TrainingTimesLastYear       0\n",
       "WorkLifeBalance             0\n",
       "YearsAtCompany              0\n",
       "YearsInCurrentRole          0\n",
       "YearsSinceLastPromotion     0\n",
       "YearsWithCurrManager        0\n",
       "dtype: int64"
      ]
     },
     "execution_count": 107,
     "metadata": {},
     "output_type": "execute_result"
    }
   ],
   "source": [
    "# learn about the data: show no missing values\n",
    "df.isna().sum()   "
   ]
  },
  {
   "cell_type": "code",
   "execution_count": 108,
   "metadata": {
    "colab": {
     "base_uri": "https://localhost:8080/"
    },
    "id": "CtS9UuzJa4p8",
    "outputId": "2c191d79-ab74-41b7-8514-eb72bcc43d6b"
   },
   "outputs": [
    {
     "name": "stdout",
     "output_type": "stream",
     "text": [
      "<class 'pandas.core.frame.DataFrame'>\n",
      "RangeIndex: 1470 entries, 0 to 1469\n",
      "Data columns (total 35 columns):\n",
      " #   Column                    Non-Null Count  Dtype \n",
      "---  ------                    --------------  ----- \n",
      " 0   Age                       1470 non-null   int64 \n",
      " 1   Attrition                 1470 non-null   object\n",
      " 2   BusinessTravel            1470 non-null   object\n",
      " 3   DailyRate                 1470 non-null   int64 \n",
      " 4   Department                1470 non-null   object\n",
      " 5   DistanceFromHome          1470 non-null   int64 \n",
      " 6   Education                 1470 non-null   int64 \n",
      " 7   EducationField            1470 non-null   object\n",
      " 8   EmployeeCount             1470 non-null   int64 \n",
      " 9   EmployeeNumber            1470 non-null   int64 \n",
      " 10  EnvironmentSatisfaction   1470 non-null   int64 \n",
      " 11  Gender                    1470 non-null   object\n",
      " 12  HourlyRate                1470 non-null   int64 \n",
      " 13  JobInvolvement            1470 non-null   int64 \n",
      " 14  JobLevel                  1470 non-null   int64 \n",
      " 15  JobRole                   1470 non-null   object\n",
      " 16  JobSatisfaction           1470 non-null   int64 \n",
      " 17  MaritalStatus             1470 non-null   object\n",
      " 18  MonthlyIncome             1470 non-null   int64 \n",
      " 19  MonthlyRate               1470 non-null   int64 \n",
      " 20  NumCompaniesWorked        1470 non-null   int64 \n",
      " 21  Over18                    1470 non-null   object\n",
      " 22  OverTime                  1470 non-null   object\n",
      " 23  PercentSalaryHike         1470 non-null   int64 \n",
      " 24  PerformanceRating         1470 non-null   int64 \n",
      " 25  RelationshipSatisfaction  1470 non-null   int64 \n",
      " 26  StandardHours             1470 non-null   int64 \n",
      " 27  StockOptionLevel          1470 non-null   int64 \n",
      " 28  TotalWorkingYears         1470 non-null   int64 \n",
      " 29  TrainingTimesLastYear     1470 non-null   int64 \n",
      " 30  WorkLifeBalance           1470 non-null   int64 \n",
      " 31  YearsAtCompany            1470 non-null   int64 \n",
      " 32  YearsInCurrentRole        1470 non-null   int64 \n",
      " 33  YearsSinceLastPromotion   1470 non-null   int64 \n",
      " 34  YearsWithCurrManager      1470 non-null   int64 \n",
      "dtypes: int64(26), object(9)\n",
      "memory usage: 402.1+ KB\n"
     ]
    }
   ],
   "source": [
    "# learn about data -- data type and counts \n",
    "df.info()"
   ]
  },
  {
   "cell_type": "code",
   "execution_count": 109,
   "metadata": {
    "colab": {
     "base_uri": "https://localhost:8080/",
     "height": 383
    },
    "id": "NvFgGebe_2Sc",
    "outputId": "72e12340-2653-4cf9-c442-4a87b8f521f9"
   },
   "outputs": [
    {
     "data": {
      "text/plain": [
       "<seaborn.axisgrid.FacetGrid at 0x7fda31ba0fd0>"
      ]
     },
     "execution_count": 109,
     "metadata": {},
     "output_type": "execute_result"
    },
    {
     "data": {
      "image/png": "[encoded data removed]",
      "text/plain": [
       "<Figure size 360x360 with 1 Axes>"
      ]
     },
     "metadata": {},
     "output_type": "display_data"
    }
   ],
   "source": [
    "# view and find imbalanced dataset where the group we are interested in contained much fewer sample sets than the other group\n",
    "import seaborn as sns\n",
    "import matplotlib.pyplot as plt\n",
    "sns.set_theme(style=\"ticks\", color_codes=True)\n",
    "\n",
    "sns.catplot(x=\"Attrition\", kind=\"count\", palette=\"ch:.25\", data=df)"
   ]
  },
  {
   "cell_type": "markdown",
   "metadata": {
    "id": "15BDd52Rw3wJ"
   },
   "source": [
    "<h3> Data Cleaning:</h3>"
   ]
  },
  {
   "cell_type": "markdown",
   "metadata": {
    "id": "3hAkTnvMbBN5"
   },
   "source": [
    "1. change the attrition to the first column and encode it into \"1\" or \"0\""
   ]
  },
  {
   "cell_type": "code",
   "execution_count": 110,
   "metadata": {
    "id": "o93FEplg0mkY"
   },
   "outputs": [],
   "source": [
    "df1 = df[ ['Attrition'] + [ col for col in df.columns if col != 'Attrition' ] ]\n",
    "df1['Attrition'] = df1['Attrition'].map({'Yes':1, 'No':0})\n"
   ]
  },
  {
   "cell_type": "markdown",
   "metadata": {
    "id": "3Wrd9a9HbFNd"
   },
   "source": [
    "2. delete all the columns that we do not need "
   ]
  },
  {
   "cell_type": "code",
   "execution_count": 111,
   "metadata": {
    "colab": {
     "base_uri": "https://localhost:8080/",
     "height": 617
    },
    "id": "vCtqp1M7bDu0",
    "outputId": "7ed1853e-459f-444a-8d9b-5b562543e6a0"
   },
   "outputs": [
    {
     "data": {
      "text/html": [
       "<div>\n",
       "<style scoped>\n",
       "    .dataframe tbody tr th:only-of-type {\n",
       "        vertical-align: middle;\n",
       "    }\n",
       "\n",
       "    .dataframe tbody tr th {\n",
       "        vertical-align: top;\n",
       "    }\n",
       "\n",
       "    .dataframe thead th {\n",
       "        text-align: right;\n",
       "    }\n",
       "</style>\n",
       "<table border=\"1\" class=\"dataframe\">\n",
       "  <thead>\n",
       "    <tr style=\"text-align: right;\">\n",
       "      <th></th>\n",
       "      <th>Attrition</th>\n",
       "      <th>Age</th>\n",
       "      <th>BusinessTravel</th>\n",
       "      <th>Department</th>\n",
       "      <th>DistanceFromHome</th>\n",
       "      <th>Education</th>\n",
       "      <th>EducationField</th>\n",
       "      <th>EnvironmentSatisfaction</th>\n",
       "      <th>Gender</th>\n",
       "      <th>JobInvolvement</th>\n",
       "      <th>...</th>\n",
       "      <th>PerformanceRating</th>\n",
       "      <th>RelationshipSatisfaction</th>\n",
       "      <th>StockOptionLevel</th>\n",
       "      <th>TotalWorkingYears</th>\n",
       "      <th>TrainingTimesLastYear</th>\n",
       "      <th>WorkLifeBalance</th>\n",
       "      <th>YearsAtCompany</th>\n",
       "      <th>YearsInCurrentRole</th>\n",
       "      <th>YearsSinceLastPromotion</th>\n",
       "      <th>YearsWithCurrManager</th>\n",
       "    </tr>\n",
       "  </thead>\n",
       "  <tbody>\n",
       "    <tr>\n",
       "      <th>0</th>\n",
       "      <td>1</td>\n",
       "      <td>41</td>\n",
       "      <td>Travel_Rarely</td>\n",
       "      <td>Sales</td>\n",
       "      <td>1</td>\n",
       "      <td>2</td>\n",
       "      <td>Life Sciences</td>\n",
       "      <td>2</td>\n",
       "      <td>Female</td>\n",
       "      <td>3</td>\n",
       "      <td>...</td>\n",
       "      <td>3</td>\n",
       "      <td>1</td>\n",
       "      <td>0</td>\n",
       "      <td>8</td>\n",
       "      <td>0</td>\n",
       "      <td>1</td>\n",
       "      <td>6</td>\n",
       "      <td>4</td>\n",
       "      <td>0</td>\n",
       "      <td>5</td>\n",
       "    </tr>\n",
       "    <tr>\n",
       "      <th>1</th>\n",
       "      <td>0</td>\n",
       "      <td>49</td>\n",
       "      <td>Travel_Frequently</td>\n",
       "      <td>Research &amp; Development</td>\n",
       "      <td>8</td>\n",
       "      <td>1</td>\n",
       "      <td>Life Sciences</td>\n",
       "      <td>3</td>\n",
       "      <td>Male</td>\n",
       "      <td>2</td>\n",
       "      <td>...</td>\n",
       "      <td>4</td>\n",
       "      <td>4</td>\n",
       "      <td>1</td>\n",
       "      <td>10</td>\n",
       "      <td>3</td>\n",
       "      <td>3</td>\n",
       "      <td>10</td>\n",
       "      <td>7</td>\n",
       "      <td>1</td>\n",
       "      <td>7</td>\n",
       "    </tr>\n",
       "    <tr>\n",
       "      <th>2</th>\n",
       "      <td>1</td>\n",
       "      <td>37</td>\n",
       "      <td>Travel_Rarely</td>\n",
       "      <td>Research &amp; Development</td>\n",
       "      <td>2</td>\n",
       "      <td>2</td>\n",
       "      <td>Other</td>\n",
       "      <td>4</td>\n",
       "      <td>Male</td>\n",
       "      <td>2</td>\n",
       "      <td>...</td>\n",
       "      <td>3</td>\n",
       "      <td>2</td>\n",
       "      <td>0</td>\n",
       "      <td>7</td>\n",
       "      <td>3</td>\n",
       "      <td>3</td>\n",
       "      <td>0</td>\n",
       "      <td>0</td>\n",
       "      <td>0</td>\n",
       "      <td>0</td>\n",
       "    </tr>\n",
       "    <tr>\n",
       "      <th>3</th>\n",
       "      <td>0</td>\n",
       "      <td>33</td>\n",
       "      <td>Travel_Frequently</td>\n",
       "      <td>Research &amp; Development</td>\n",
       "      <td>3</td>\n",
       "      <td>4</td>\n",
       "      <td>Life Sciences</td>\n",
       "      <td>4</td>\n",
       "      <td>Female</td>\n",
       "      <td>3</td>\n",
       "      <td>...</td>\n",
       "      <td>3</td>\n",
       "      <td>3</td>\n",
       "      <td>0</td>\n",
       "      <td>8</td>\n",
       "      <td>3</td>\n",
       "      <td>3</td>\n",
       "      <td>8</td>\n",
       "      <td>7</td>\n",
       "      <td>3</td>\n",
       "      <td>0</td>\n",
       "    </tr>\n",
       "    <tr>\n",
       "      <th>4</th>\n",
       "      <td>0</td>\n",
       "      <td>27</td>\n",
       "      <td>Travel_Rarely</td>\n",
       "      <td>Research &amp; Development</td>\n",
       "      <td>2</td>\n",
       "      <td>1</td>\n",
       "      <td>Medical</td>\n",
       "      <td>1</td>\n",
       "      <td>Male</td>\n",
       "      <td>3</td>\n",
       "      <td>...</td>\n",
       "      <td>3</td>\n",
       "      <td>4</td>\n",
       "      <td>1</td>\n",
       "      <td>6</td>\n",
       "      <td>3</td>\n",
       "      <td>3</td>\n",
       "      <td>2</td>\n",
       "      <td>2</td>\n",
       "      <td>2</td>\n",
       "      <td>2</td>\n",
       "    </tr>\n",
       "    <tr>\n",
       "      <th>...</th>\n",
       "      <td>...</td>\n",
       "      <td>...</td>\n",
       "      <td>...</td>\n",
       "      <td>...</td>\n",
       "      <td>...</td>\n",
       "      <td>...</td>\n",
       "      <td>...</td>\n",
       "      <td>...</td>\n",
       "      <td>...</td>\n",
       "      <td>...</td>\n",
       "      <td>...</td>\n",
       "      <td>...</td>\n",
       "      <td>...</td>\n",
       "      <td>...</td>\n",
       "      <td>...</td>\n",
       "      <td>...</td>\n",
       "      <td>...</td>\n",
       "      <td>...</td>\n",
       "      <td>...</td>\n",
       "      <td>...</td>\n",
       "      <td>...</td>\n",
       "    </tr>\n",
       "    <tr>\n",
       "      <th>1465</th>\n",
       "      <td>0</td>\n",
       "      <td>36</td>\n",
       "      <td>Travel_Frequently</td>\n",
       "      <td>Research &amp; Development</td>\n",
       "      <td>23</td>\n",
       "      <td>2</td>\n",
       "      <td>Medical</td>\n",
       "      <td>3</td>\n",
       "      <td>Male</td>\n",
       "      <td>4</td>\n",
       "      <td>...</td>\n",
       "      <td>3</td>\n",
       "      <td>3</td>\n",
       "      <td>1</td>\n",
       "      <td>17</td>\n",
       "      <td>3</td>\n",
       "      <td>3</td>\n",
       "      <td>5</td>\n",
       "      <td>2</td>\n",
       "      <td>0</td>\n",
       "      <td>3</td>\n",
       "    </tr>\n",
       "    <tr>\n",
       "      <th>1466</th>\n",
       "      <td>0</td>\n",
       "      <td>39</td>\n",
       "      <td>Travel_Rarely</td>\n",
       "      <td>Research &amp; Development</td>\n",
       "      <td>6</td>\n",
       "      <td>1</td>\n",
       "      <td>Medical</td>\n",
       "      <td>4</td>\n",
       "      <td>Male</td>\n",
       "      <td>2</td>\n",
       "      <td>...</td>\n",
       "      <td>3</td>\n",
       "      <td>1</td>\n",
       "      <td>1</td>\n",
       "      <td>9</td>\n",
       "      <td>5</td>\n",
       "      <td>3</td>\n",
       "      <td>7</td>\n",
       "      <td>7</td>\n",
       "      <td>1</td>\n",
       "      <td>7</td>\n",
       "    </tr>\n",
       "    <tr>\n",
       "      <th>1467</th>\n",
       "      <td>0</td>\n",
       "      <td>27</td>\n",
       "      <td>Travel_Rarely</td>\n",
       "      <td>Research &amp; Development</td>\n",
       "      <td>4</td>\n",
       "      <td>3</td>\n",
       "      <td>Life Sciences</td>\n",
       "      <td>2</td>\n",
       "      <td>Male</td>\n",
       "      <td>4</td>\n",
       "      <td>...</td>\n",
       "      <td>4</td>\n",
       "      <td>2</td>\n",
       "      <td>1</td>\n",
       "      <td>6</td>\n",
       "      <td>0</td>\n",
       "      <td>3</td>\n",
       "      <td>6</td>\n",
       "      <td>2</td>\n",
       "      <td>0</td>\n",
       "      <td>3</td>\n",
       "    </tr>\n",
       "    <tr>\n",
       "      <th>1468</th>\n",
       "      <td>0</td>\n",
       "      <td>49</td>\n",
       "      <td>Travel_Frequently</td>\n",
       "      <td>Sales</td>\n",
       "      <td>2</td>\n",
       "      <td>3</td>\n",
       "      <td>Medical</td>\n",
       "      <td>4</td>\n",
       "      <td>Male</td>\n",
       "      <td>2</td>\n",
       "      <td>...</td>\n",
       "      <td>3</td>\n",
       "      <td>4</td>\n",
       "      <td>0</td>\n",
       "      <td>17</td>\n",
       "      <td>3</td>\n",
       "      <td>2</td>\n",
       "      <td>9</td>\n",
       "      <td>6</td>\n",
       "      <td>0</td>\n",
       "      <td>8</td>\n",
       "    </tr>\n",
       "    <tr>\n",
       "      <th>1469</th>\n",
       "      <td>0</td>\n",
       "      <td>34</td>\n",
       "      <td>Travel_Rarely</td>\n",
       "      <td>Research &amp; Development</td>\n",
       "      <td>8</td>\n",
       "      <td>3</td>\n",
       "      <td>Medical</td>\n",
       "      <td>2</td>\n",
       "      <td>Male</td>\n",
       "      <td>4</td>\n",
       "      <td>...</td>\n",
       "      <td>3</td>\n",
       "      <td>1</td>\n",
       "      <td>0</td>\n",
       "      <td>6</td>\n",
       "      <td>3</td>\n",
       "      <td>4</td>\n",
       "      <td>4</td>\n",
       "      <td>3</td>\n",
       "      <td>1</td>\n",
       "      <td>2</td>\n",
       "    </tr>\n",
       "  </tbody>\n",
       "</table>\n",
       "<p>1470 rows × 28 columns</p>\n",
       "</div>"
      ],
      "text/plain": [
       "      Attrition  Age     BusinessTravel              Department  \\\n",
       "0             1   41      Travel_Rarely                   Sales   \n",
       "1             0   49  Travel_Frequently  Research & Development   \n",
       "2             1   37      Travel_Rarely  Research & Development   \n",
       "3             0   33  Travel_Frequently  Research & Development   \n",
       "4             0   27      Travel_Rarely  Research & Development   \n",
       "...         ...  ...                ...                     ...   \n",
       "1465          0   36  Travel_Frequently  Research & Development   \n",
       "1466          0   39      Travel_Rarely  Research & Development   \n",
       "1467          0   27      Travel_Rarely  Research & Development   \n",
       "1468          0   49  Travel_Frequently                   Sales   \n",
       "1469          0   34      Travel_Rarely  Research & Development   \n",
       "\n",
       "      DistanceFromHome  Education EducationField  EnvironmentSatisfaction  \\\n",
       "0                    1          2  Life Sciences                        2   \n",
       "1                    8          1  Life Sciences                        3   \n",
       "2                    2          2          Other                        4   \n",
       "3                    3          4  Life Sciences                        4   \n",
       "4                    2          1        Medical                        1   \n",
       "...                ...        ...            ...                      ...   \n",
       "1465                23          2        Medical                        3   \n",
       "1466                 6          1        Medical                        4   \n",
       "1467                 4          3  Life Sciences                        2   \n",
       "1468                 2          3        Medical                        4   \n",
       "1469                 8          3        Medical                        2   \n",
       "\n",
       "      Gender  JobInvolvement  ...  PerformanceRating RelationshipSatisfaction  \\\n",
       "0     Female               3  ...                  3                        1   \n",
       "1       Male               2  ...                  4                        4   \n",
       "2       Male               2  ...                  3                        2   \n",
       "3     Female               3  ...                  3                        3   \n",
       "4       Male               3  ...                  3                        4   \n",
       "...      ...             ...  ...                ...                      ...   \n",
       "1465    Male               4  ...                  3                        3   \n",
       "1466    Male               2  ...                  3                        1   \n",
       "1467    Male               4  ...                  4                        2   \n",
       "1468    Male               2  ...                  3                        4   \n",
       "1469    Male               4  ...                  3                        1   \n",
       "\n",
       "      StockOptionLevel TotalWorkingYears  TrainingTimesLastYear  \\\n",
       "0                    0                 8                      0   \n",
       "1                    1                10                      3   \n",
       "2                    0                 7                      3   \n",
       "3                    0                 8                      3   \n",
       "4                    1                 6                      3   \n",
       "...                ...               ...                    ...   \n",
       "1465                 1                17                      3   \n",
       "1466                 1                 9                      5   \n",
       "1467                 1                 6                      0   \n",
       "1468                 0                17                      3   \n",
       "1469                 0                 6                      3   \n",
       "\n",
       "      WorkLifeBalance YearsAtCompany  YearsInCurrentRole  \\\n",
       "0                   1              6                   4   \n",
       "1                   3             10                   7   \n",
       "2                   3              0                   0   \n",
       "3                   3              8                   7   \n",
       "4                   3              2                   2   \n",
       "...               ...            ...                 ...   \n",
       "1465                3              5                   2   \n",
       "1466                3              7                   7   \n",
       "1467                3              6                   2   \n",
       "1468                2              9                   6   \n",
       "1469                4              4                   3   \n",
       "\n",
       "      YearsSinceLastPromotion  YearsWithCurrManager  \n",
       "0                           0                     5  \n",
       "1                           1                     7  \n",
       "2                           0                     0  \n",
       "3                           3                     0  \n",
       "4                           2                     2  \n",
       "...                       ...                   ...  \n",
       "1465                        0                     3  \n",
       "1466                        1                     7  \n",
       "1467                        0                     3  \n",
       "1468                        0                     8  \n",
       "1469                        1                     2  \n",
       "\n",
       "[1470 rows x 28 columns]"
      ]
     },
     "execution_count": 111,
     "metadata": {},
     "output_type": "execute_result"
    }
   ],
   "source": [
    "df1 = df1.drop(['EmployeeCount','EmployeeNumber','Over18','StandardHours'], axis=1) # drop the columns with only one unique values\n",
    "df1 = df1.drop(['DailyRate','HourlyRate','MonthlyRate'], axis=1)# high similarities\n",
    "df1"
   ]
  },
  {
   "cell_type": "markdown",
   "metadata": {
    "id": "NWPtr-cWbKZT"
   },
   "source": [
    "3. Store the numerical columns in a list numerical \\\n",
    "  Use all the numeric data for decision tree prediction "
   ]
  },
  {
   "cell_type": "code",
   "execution_count": 112,
   "metadata": {
    "colab": {
     "base_uri": "https://localhost:8080/",
     "height": 444
    },
    "id": "n8qQMqKgLKp0",
    "outputId": "8d13ae74-ab0d-465a-ef52-ffb143d684b2"
   },
   "outputs": [
    {
     "data": {
      "text/html": [
       "<div>\n",
       "<style scoped>\n",
       "    .dataframe tbody tr th:only-of-type {\n",
       "        vertical-align: middle;\n",
       "    }\n",
       "\n",
       "    .dataframe tbody tr th {\n",
       "        vertical-align: top;\n",
       "    }\n",
       "\n",
       "    .dataframe thead th {\n",
       "        text-align: right;\n",
       "    }\n",
       "</style>\n",
       "<table border=\"1\" class=\"dataframe\">\n",
       "  <thead>\n",
       "    <tr style=\"text-align: right;\">\n",
       "      <th></th>\n",
       "      <th>Attrition</th>\n",
       "      <th>Age</th>\n",
       "      <th>BusinessTravel</th>\n",
       "      <th>Department</th>\n",
       "      <th>DistanceFromHome</th>\n",
       "      <th>Education</th>\n",
       "      <th>EducationField</th>\n",
       "      <th>EnvironmentSatisfaction</th>\n",
       "      <th>Gender</th>\n",
       "      <th>JobInvolvement</th>\n",
       "      <th>...</th>\n",
       "      <th>PerformanceRating</th>\n",
       "      <th>RelationshipSatisfaction</th>\n",
       "      <th>StockOptionLevel</th>\n",
       "      <th>TotalWorkingYears</th>\n",
       "      <th>TrainingTimesLastYear</th>\n",
       "      <th>WorkLifeBalance</th>\n",
       "      <th>YearsAtCompany</th>\n",
       "      <th>YearsInCurrentRole</th>\n",
       "      <th>YearsSinceLastPromotion</th>\n",
       "      <th>YearsWithCurrManager</th>\n",
       "    </tr>\n",
       "  </thead>\n",
       "  <tbody>\n",
       "    <tr>\n",
       "      <th>0</th>\n",
       "      <td>1</td>\n",
       "      <td>41</td>\n",
       "      <td>2</td>\n",
       "      <td>2</td>\n",
       "      <td>1</td>\n",
       "      <td>2</td>\n",
       "      <td>1</td>\n",
       "      <td>2</td>\n",
       "      <td>0</td>\n",
       "      <td>3</td>\n",
       "      <td>...</td>\n",
       "      <td>3</td>\n",
       "      <td>1</td>\n",
       "      <td>0</td>\n",
       "      <td>8</td>\n",
       "      <td>0</td>\n",
       "      <td>1</td>\n",
       "      <td>6</td>\n",
       "      <td>4</td>\n",
       "      <td>0</td>\n",
       "      <td>5</td>\n",
       "    </tr>\n",
       "    <tr>\n",
       "      <th>1</th>\n",
       "      <td>0</td>\n",
       "      <td>49</td>\n",
       "      <td>1</td>\n",
       "      <td>1</td>\n",
       "      <td>8</td>\n",
       "      <td>1</td>\n",
       "      <td>1</td>\n",
       "      <td>3</td>\n",
       "      <td>1</td>\n",
       "      <td>2</td>\n",
       "      <td>...</td>\n",
       "      <td>4</td>\n",
       "      <td>4</td>\n",
       "      <td>1</td>\n",
       "      <td>10</td>\n",
       "      <td>3</td>\n",
       "      <td>3</td>\n",
       "      <td>10</td>\n",
       "      <td>7</td>\n",
       "      <td>1</td>\n",
       "      <td>7</td>\n",
       "    </tr>\n",
       "    <tr>\n",
       "      <th>2</th>\n",
       "      <td>1</td>\n",
       "      <td>37</td>\n",
       "      <td>2</td>\n",
       "      <td>1</td>\n",
       "      <td>2</td>\n",
       "      <td>2</td>\n",
       "      <td>4</td>\n",
       "      <td>4</td>\n",
       "      <td>1</td>\n",
       "      <td>2</td>\n",
       "      <td>...</td>\n",
       "      <td>3</td>\n",
       "      <td>2</td>\n",
       "      <td>0</td>\n",
       "      <td>7</td>\n",
       "      <td>3</td>\n",
       "      <td>3</td>\n",
       "      <td>0</td>\n",
       "      <td>0</td>\n",
       "      <td>0</td>\n",
       "      <td>0</td>\n",
       "    </tr>\n",
       "    <tr>\n",
       "      <th>3</th>\n",
       "      <td>0</td>\n",
       "      <td>33</td>\n",
       "      <td>1</td>\n",
       "      <td>1</td>\n",
       "      <td>3</td>\n",
       "      <td>4</td>\n",
       "      <td>1</td>\n",
       "      <td>4</td>\n",
       "      <td>0</td>\n",
       "      <td>3</td>\n",
       "      <td>...</td>\n",
       "      <td>3</td>\n",
       "      <td>3</td>\n",
       "      <td>0</td>\n",
       "      <td>8</td>\n",
       "      <td>3</td>\n",
       "      <td>3</td>\n",
       "      <td>8</td>\n",
       "      <td>7</td>\n",
       "      <td>3</td>\n",
       "      <td>0</td>\n",
       "    </tr>\n",
       "    <tr>\n",
       "      <th>4</th>\n",
       "      <td>0</td>\n",
       "      <td>27</td>\n",
       "      <td>2</td>\n",
       "      <td>1</td>\n",
       "      <td>2</td>\n",
       "      <td>1</td>\n",
       "      <td>3</td>\n",
       "      <td>1</td>\n",
       "      <td>1</td>\n",
       "      <td>3</td>\n",
       "      <td>...</td>\n",
       "      <td>3</td>\n",
       "      <td>4</td>\n",
       "      <td>1</td>\n",
       "      <td>6</td>\n",
       "      <td>3</td>\n",
       "      <td>3</td>\n",
       "      <td>2</td>\n",
       "      <td>2</td>\n",
       "      <td>2</td>\n",
       "      <td>2</td>\n",
       "    </tr>\n",
       "    <tr>\n",
       "      <th>...</th>\n",
       "      <td>...</td>\n",
       "      <td>...</td>\n",
       "      <td>...</td>\n",
       "      <td>...</td>\n",
       "      <td>...</td>\n",
       "      <td>...</td>\n",
       "      <td>...</td>\n",
       "      <td>...</td>\n",
       "      <td>...</td>\n",
       "      <td>...</td>\n",
       "      <td>...</td>\n",
       "      <td>...</td>\n",
       "      <td>...</td>\n",
       "      <td>...</td>\n",
       "      <td>...</td>\n",
       "      <td>...</td>\n",
       "      <td>...</td>\n",
       "      <td>...</td>\n",
       "      <td>...</td>\n",
       "      <td>...</td>\n",
       "      <td>...</td>\n",
       "    </tr>\n",
       "    <tr>\n",
       "      <th>1465</th>\n",
       "      <td>0</td>\n",
       "      <td>36</td>\n",
       "      <td>1</td>\n",
       "      <td>1</td>\n",
       "      <td>23</td>\n",
       "      <td>2</td>\n",
       "      <td>3</td>\n",
       "      <td>3</td>\n",
       "      <td>1</td>\n",
       "      <td>4</td>\n",
       "      <td>...</td>\n",
       "      <td>3</td>\n",
       "      <td>3</td>\n",
       "      <td>1</td>\n",
       "      <td>17</td>\n",
       "      <td>3</td>\n",
       "      <td>3</td>\n",
       "      <td>5</td>\n",
       "      <td>2</td>\n",
       "      <td>0</td>\n",
       "      <td>3</td>\n",
       "    </tr>\n",
       "    <tr>\n",
       "      <th>1466</th>\n",
       "      <td>0</td>\n",
       "      <td>39</td>\n",
       "      <td>2</td>\n",
       "      <td>1</td>\n",
       "      <td>6</td>\n",
       "      <td>1</td>\n",
       "      <td>3</td>\n",
       "      <td>4</td>\n",
       "      <td>1</td>\n",
       "      <td>2</td>\n",
       "      <td>...</td>\n",
       "      <td>3</td>\n",
       "      <td>1</td>\n",
       "      <td>1</td>\n",
       "      <td>9</td>\n",
       "      <td>5</td>\n",
       "      <td>3</td>\n",
       "      <td>7</td>\n",
       "      <td>7</td>\n",
       "      <td>1</td>\n",
       "      <td>7</td>\n",
       "    </tr>\n",
       "    <tr>\n",
       "      <th>1467</th>\n",
       "      <td>0</td>\n",
       "      <td>27</td>\n",
       "      <td>2</td>\n",
       "      <td>1</td>\n",
       "      <td>4</td>\n",
       "      <td>3</td>\n",
       "      <td>1</td>\n",
       "      <td>2</td>\n",
       "      <td>1</td>\n",
       "      <td>4</td>\n",
       "      <td>...</td>\n",
       "      <td>4</td>\n",
       "      <td>2</td>\n",
       "      <td>1</td>\n",
       "      <td>6</td>\n",
       "      <td>0</td>\n",
       "      <td>3</td>\n",
       "      <td>6</td>\n",
       "      <td>2</td>\n",
       "      <td>0</td>\n",
       "      <td>3</td>\n",
       "    </tr>\n",
       "    <tr>\n",
       "      <th>1468</th>\n",
       "      <td>0</td>\n",
       "      <td>49</td>\n",
       "      <td>1</td>\n",
       "      <td>2</td>\n",
       "      <td>2</td>\n",
       "      <td>3</td>\n",
       "      <td>3</td>\n",
       "      <td>4</td>\n",
       "      <td>1</td>\n",
       "      <td>2</td>\n",
       "      <td>...</td>\n",
       "      <td>3</td>\n",
       "      <td>4</td>\n",
       "      <td>0</td>\n",
       "      <td>17</td>\n",
       "      <td>3</td>\n",
       "      <td>2</td>\n",
       "      <td>9</td>\n",
       "      <td>6</td>\n",
       "      <td>0</td>\n",
       "      <td>8</td>\n",
       "    </tr>\n",
       "    <tr>\n",
       "      <th>1469</th>\n",
       "      <td>0</td>\n",
       "      <td>34</td>\n",
       "      <td>2</td>\n",
       "      <td>1</td>\n",
       "      <td>8</td>\n",
       "      <td>3</td>\n",
       "      <td>3</td>\n",
       "      <td>2</td>\n",
       "      <td>1</td>\n",
       "      <td>4</td>\n",
       "      <td>...</td>\n",
       "      <td>3</td>\n",
       "      <td>1</td>\n",
       "      <td>0</td>\n",
       "      <td>6</td>\n",
       "      <td>3</td>\n",
       "      <td>4</td>\n",
       "      <td>4</td>\n",
       "      <td>3</td>\n",
       "      <td>1</td>\n",
       "      <td>2</td>\n",
       "    </tr>\n",
       "  </tbody>\n",
       "</table>\n",
       "<p>1470 rows × 28 columns</p>\n",
       "</div>"
      ],
      "text/plain": [
       "      Attrition  Age  BusinessTravel  Department  DistanceFromHome  Education  \\\n",
       "0             1   41               2           2                 1          2   \n",
       "1             0   49               1           1                 8          1   \n",
       "2             1   37               2           1                 2          2   \n",
       "3             0   33               1           1                 3          4   \n",
       "4             0   27               2           1                 2          1   \n",
       "...         ...  ...             ...         ...               ...        ...   \n",
       "1465          0   36               1           1                23          2   \n",
       "1466          0   39               2           1                 6          1   \n",
       "1467          0   27               2           1                 4          3   \n",
       "1468          0   49               1           2                 2          3   \n",
       "1469          0   34               2           1                 8          3   \n",
       "\n",
       "      EducationField  EnvironmentSatisfaction  Gender  JobInvolvement  ...  \\\n",
       "0                  1                        2       0               3  ...   \n",
       "1                  1                        3       1               2  ...   \n",
       "2                  4                        4       1               2  ...   \n",
       "3                  1                        4       0               3  ...   \n",
       "4                  3                        1       1               3  ...   \n",
       "...              ...                      ...     ...             ...  ...   \n",
       "1465               3                        3       1               4  ...   \n",
       "1466               3                        4       1               2  ...   \n",
       "1467               1                        2       1               4  ...   \n",
       "1468               3                        4       1               2  ...   \n",
       "1469               3                        2       1               4  ...   \n",
       "\n",
       "      PerformanceRating  RelationshipSatisfaction  StockOptionLevel  \\\n",
       "0                     3                         1                 0   \n",
       "1                     4                         4                 1   \n",
       "2                     3                         2                 0   \n",
       "3                     3                         3                 0   \n",
       "4                     3                         4                 1   \n",
       "...                 ...                       ...               ...   \n",
       "1465                  3                         3                 1   \n",
       "1466                  3                         1                 1   \n",
       "1467                  4                         2                 1   \n",
       "1468                  3                         4                 0   \n",
       "1469                  3                         1                 0   \n",
       "\n",
       "      TotalWorkingYears  TrainingTimesLastYear  WorkLifeBalance  \\\n",
       "0                     8                      0                1   \n",
       "1                    10                      3                3   \n",
       "2                     7                      3                3   \n",
       "3                     8                      3                3   \n",
       "4                     6                      3                3   \n",
       "...                 ...                    ...              ...   \n",
       "1465                 17                      3                3   \n",
       "1466                  9                      5                3   \n",
       "1467                  6                      0                3   \n",
       "1468                 17                      3                2   \n",
       "1469                  6                      3                4   \n",
       "\n",
       "      YearsAtCompany  YearsInCurrentRole  YearsSinceLastPromotion  \\\n",
       "0                  6                   4                        0   \n",
       "1                 10                   7                        1   \n",
       "2                  0                   0                        0   \n",
       "3                  8                   7                        3   \n",
       "4                  2                   2                        2   \n",
       "...              ...                 ...                      ...   \n",
       "1465               5                   2                        0   \n",
       "1466               7                   7                        1   \n",
       "1467               6                   2                        0   \n",
       "1468               9                   6                        0   \n",
       "1469               4                   3                        1   \n",
       "\n",
       "      YearsWithCurrManager  \n",
       "0                        5  \n",
       "1                        7  \n",
       "2                        0  \n",
       "3                        0  \n",
       "4                        2  \n",
       "...                    ...  \n",
       "1465                     3  \n",
       "1466                     7  \n",
       "1467                     3  \n",
       "1468                     8  \n",
       "1469                     2  \n",
       "\n",
       "[1470 rows x 28 columns]"
      ]
     },
     "execution_count": 112,
     "metadata": {},
     "output_type": "execute_result"
    }
   ],
   "source": [
    "\n",
    "import numpy as np\n",
    "df2=df1.copy()\n",
    "df2['BusinessTravel']=np.select([df2['BusinessTravel']=='Non-Travel',df2['BusinessTravel']=='Travel_Frequently',df2['BusinessTravel']=='Travel_Rarely'],[0,1,2])\n",
    "df2['Department']=np.select([df2['Department']=='Human Resources',df2['Department']=='Research & Development',df2['Department']=='Sales'],[0,1,2])\n",
    "df2['EducationField']=np.select([df2['EducationField']=='Human Resources',df2['EducationField']=='Life Sciences',df2['EducationField']=='Marketing',df2['EducationField']=='Medical',df2['EducationField']=='Other',df2['EducationField']=='Technical Degree'],[0,1,2,3,4,5])\n",
    "df2['Gender']=np.where(df2['Gender']=='Female',0,1)\n",
    "df2['JobRole']=np.select([df2['JobRole']=='Healthcare Representative',df2['JobRole']=='Human Resources',df2['JobRole']=='Laboratory Technician',df2['JobRole']=='Manager',df2['JobRole']=='Manufacturing Director',df2['JobRole']=='Research Director',df2['JobRole']=='Research Scientist',df2['JobRole']=='Sales Executive',df2['JobRole']=='Sales Representative'],[0,1,2,3,4,5,6,7,8])\n",
    "df2['MaritalStatus']=np.select([df2['MaritalStatus']=='Divorced',df2['MaritalStatus']=='Married',df2['MaritalStatus']=='Single'],[0,1,2])\n",
    "df2['OverTime']=np.where(df2['OverTime']=='No',0,1)\n",
    "\n",
    "df2"
   ]
  },
  {
   "cell_type": "markdown",
   "metadata": {
    "id": "quHtXgzs0mkZ"
   },
   "source": [
    "4. split data into train and test sets"
   ]
  },
  {
   "cell_type": "code",
   "execution_count": 113,
   "metadata": {
    "id": "l9iaj4B50mka"
   },
   "outputs": [],
   "source": [
    "from sklearn.model_selection import train_test_split\n",
    "train, test = train_test_split(df2, test_size = 0.2, random_state = 1) \n",
    "# seperating data into 80% training and 20% testing sets, set seed for replication purpose\n",
    "\n",
    "x_train = train.iloc[0:,1:] \n",
    "y_train = train[['Attrition']] \n",
    "\n",
    "x_test = test.iloc[0:,1:]\n",
    "y_test = test[['Attrition']]\n",
    "\n"
   ]
  },
  {
   "cell_type": "markdown",
   "metadata": {
    "id": "-Mw4Uj8BbYUT"
   },
   "source": [
    "<h1> Run models -- [Iteration 1] </h1> "
   ]
  },
  {
   "cell_type": "markdown",
   "metadata": {
    "id": "8WGgbWbG0mkd"
   },
   "source": [
    "<h3>1.1 Classification trees</h3>"
   ]
  },
  {
   "cell_type": "code",
   "execution_count": 114,
   "metadata": {
    "colab": {
     "base_uri": "https://localhost:8080/"
    },
    "id": "Qmz7R8Uz0mkd",
    "outputId": "c47adc3b-c806-487d-e45f-cb3e1c1588a5"
   },
   "outputs": [
    {
     "data": {
      "text/plain": [
       "DecisionTreeClassifier(criterion='entropy', max_depth=3, random_state=1)"
      ]
     },
     "execution_count": 114,
     "metadata": {},
     "output_type": "execute_result"
    }
   ],
   "source": [
    "from sklearn.tree import DecisionTreeClassifier \n",
    "from sklearn import tree\n",
    "\n",
    "model_classification = tree.DecisionTreeClassifier(max_depth = 3,criterion='entropy',random_state=1) # entropy: used for classify\n",
    "model_classification.fit(x_train,y_train)"
   ]
  },
  {
   "cell_type": "code",
   "execution_count": 115,
   "metadata": {
    "colab": {
     "base_uri": "https://localhost:8080/"
    },
    "id": "SBXWzeud0mke",
    "outputId": "1c7e81ce-0cf8-4177-d02f-2ef58f793a9f"
   },
   "outputs": [
    {
     "name": "stdout",
     "output_type": "stream",
     "text": [
      "Recall/TPR:\t\t\t0.14 proportion of employees actually leaving the company identified\n",
      "Precision:\t\t\t0.67 identified as attrition are leaving the company\n",
      "f-score:\t\t\t0.23 capture both precision and recall\n",
      "roc_auc_score:\t\t\t0.56 the capability of a model in distinguishing the classes\n"
     ]
    }
   ],
   "source": [
    "import numpy as np\n",
    "from sklearn.metrics import confusion_matrix\n",
    "classification_train = model_classification.predict(x_train)\n",
    "classification_test = model_classification.predict(x_test)\n",
    "\n",
    "from sklearn.metrics import roc_auc_score\n",
    "tp, fn, fp, tn = confusion_matrix(np.array(y_test),classification_test,labels=[1,0]).ravel()\n",
    "precision = round(tp/(tp+fp),2)\n",
    "tpr = round(tp/(tp+fn),2)\n",
    "f_score = round(2*precision*tpr/(precision+tpr),2)\n",
    "auc_score= round(roc_auc_score(y_test,classification_test),2)\n",
    "\n",
    "\n",
    "print(\"Recall/TPR:\\t\\t\\t%1.2f proportion of employees actually leaving the company identified\"%(tpr))\n",
    "print(\"Precision:\\t\\t\\t%1.2f identified as attrition are leaving the company\"%(precision))\n",
    "print(\"f-score:\\t\\t\\t%1.2f capture both precision and recall\"%(f_score))\n",
    "print(\"roc_auc_score:\\t\\t\\t%1.2f the capability of a model in distinguishing the classes\"%(auc_score))\n",
    "\n",
    "Performance = dict()\n",
    "key = (\"Iteration_1_original\",'tree')\n",
    "Performance[key] = [tpr,precision,f_score,auc_score]"
   ]
  },
  {
   "cell_type": "code",
   "execution_count": 116,
   "metadata": {
    "colab": {
     "base_uri": "https://localhost:8080/",
     "height": 295
    },
    "id": "wOTClRWNKjpF",
    "outputId": "5c7296f8-bec6-4609-aba6-3e654fe5473f"
   },
   "outputs": [
    {
     "data": {
      "image/png": "[encoded data removed]",
      "text/plain": [
       "<Figure size 432x288 with 2 Axes>"
      ]
     },
     "metadata": {},
     "output_type": "display_data"
    }
   ],
   "source": [
    "cm=confusion_matrix(np.array(y_test),classification_test,labels=[1,0]).ravel()\n",
    "import seaborn as sns\n",
    "import matplotlib.pyplot as plt     \n",
    "# fp: predict 1, fact 0 \n",
    "ax= plt.subplot()\n",
    "sns.heatmap(((tp,fn),(fp,tn)), annot=True, fmt='g', ax=ax);  #annot=True to annotate cells, ftm='g' to disable scientific notation\n",
    "\n",
    "# labels, title and ticks\n",
    "ax.set_xlabel('Predicted labels');ax.set_ylabel('True labels'); \n",
    "ax.set_title('Confusion Matrix'); \n",
    "ax.xaxis.set_ticklabels([\"Yes\",\"No\"]); ax.yaxis.set_ticklabels([\"Yes\",\"No\"]);"
   ]
  },
  {
   "cell_type": "markdown",
   "metadata": {
    "collapsed": true,
    "id": "sSLkKXsZ0mke"
   },
   "source": [
    "<h3>1.2 Random Forest </h3>"
   ]
  },
  {
   "cell_type": "code",
   "execution_count": 117,
   "metadata": {
    "colab": {
     "base_uri": "https://localhost:8080/"
    },
    "id": "4WRCmhAJrS-Z",
    "outputId": "0228929d-1f1b-4ae3-ce4a-5fd5309b6df6"
   },
   "outputs": [
    {
     "name": "stdout",
     "output_type": "stream",
     "text": [
      "Recall/TPR:\t\t\t0.22 proportion of employees actually leaving the company identified\n",
      "Precision:\t\t\t0.76 identified as attrition are leaving the company\n",
      "f-score:\t\t\t0.34 capture both precision and recall\n",
      "roc_auc_score:\t\t\t0.60 the capability of a model in distinguishing the classes\n"
     ]
    }
   ],
   "source": [
    "from sklearn.ensemble import RandomForestClassifier\n",
    "model_Random_Forests = RandomForestClassifier(max_depth=4,min_samples_leaf=4,min_samples_split=2,n_estimators=10,random_state=1)\n",
    "model_Random_Forests.fit(x_train,np.ravel(y_train))\n",
    "\n",
    "#Find the best ensemble\n",
    "from sklearn.model_selection import GridSearchCV\n",
    "parameters = {\n",
    "     'n_estimators':(10, 30, 50),    \n",
    "     'max_depth':(4,5,6,8,10,15),    \n",
    "     'min_samples_split': (2, 4, 8), \n",
    "     'min_samples_leaf': (4,8,12,16) \n",
    "}\n",
    "\n",
    "#Use the ensemble to fit the model\n",
    "model_randome_best = GridSearchCV(RandomForestClassifier(),parameters,cv=3)\n",
    "model_randome_best.fit(x_train, np.ravel(y_train))\n",
    "model_randome_best.best_score_, model_randome_best.best_params_\n",
    "\n",
    "depth = model_randome_best.best_params_['max_depth']\n",
    "leaf = model_randome_best.best_params_['min_samples_leaf']\n",
    "split = model_randome_best.best_params_['min_samples_split']\n",
    "estimator = model_randome_best.best_params_['n_estimators']\n",
    "\n",
    "\n",
    "model_Random_Forests = RandomForestClassifier(max_depth=depth,min_samples_leaf=leaf,min_samples_split=split,n_estimators=estimator,random_state=1)\n",
    "model_Random_Forests.fit(x_train,np.ravel(y_train))\n",
    "\n",
    "from sklearn.metrics import confusion_matrix\n",
    "from sklearn import metrics\n",
    "\n",
    "\n",
    "y_pred_rf = model_Random_Forests.predict(x_test)\n",
    "\n",
    "#Calculation of confusion matrix\n",
    "tp, fn, fp, tn = confusion_matrix(np.array(y_test),y_pred_rf,labels=[1,0]).ravel()\n",
    "precision = round(tp/(tp+fp),2)\n",
    "tpr = round(tp/(tp+fn),2)\n",
    "f_score = round(2*precision*tpr/(precision+tpr),2)\n",
    "auc_score= round(roc_auc_score(y_test,y_pred_rf),2)\n",
    "\n",
    "print(\"Recall/TPR:\\t\\t\\t%1.2f proportion of employees actually leaving the company identified\"%(tpr))\n",
    "print(\"Precision:\\t\\t\\t%1.2f identified as attrition are leaving the company\"%(precision))\n",
    "print(\"f-score:\\t\\t\\t%1.2f capture both precision and recall\"%(f_score))\n",
    "print(\"roc_auc_score:\\t\\t\\t%1.2f the capability of a model in distinguishing the classes\"%(auc_score))\n",
    "\n",
    "key = (\"Iteration_1_original\",'random_forest')\n",
    "Performance[key] = [tpr,precision,f_score,auc_score]\n"
   ]
  },
  {
   "cell_type": "markdown",
   "metadata": {
    "id": "4LLRL51f0mkg"
   },
   "source": [
    "<h3>1.3 Bagging </h3>\n"
   ]
  },
  {
   "cell_type": "code",
   "execution_count": 118,
   "metadata": {
    "colab": {
     "base_uri": "https://localhost:8080/"
    },
    "id": "OzKaGHIF-EsR",
    "outputId": "dc9871a8-1c85-4392-902f-0acc5e081fb3"
   },
   "outputs": [
    {
     "name": "stdout",
     "output_type": "stream",
     "text": [
      "Recall/TPR:\t\t\t0.09 proportion of employees actually leaving the company identified\n",
      "Precision:\t\t\t0.71 identified as attrition are leaving the company\n",
      "f-score:\t\t\t0.16 capture both precision and recall\n",
      "roc_auc_score:\t\t\t0.54 the capability of a model in distinguishing the classes\n"
     ]
    }
   ],
   "source": [
    "from sklearn.ensemble import BaggingClassifier \n",
    "model_Bagging=BaggingClassifier()\n",
    "model_Bagging.fit(x_train,np.ravel(y_train))\n",
    "\n",
    "\n",
    "parameters = {\n",
    "     'n_estimators':(30, 50), \n",
    "     'max_samples':(30,40,50),\n",
    "     'max_features':(5,10,20), \n",
    "}\n",
    "\n",
    "model_Bagging_best = GridSearchCV(BaggingClassifier(),parameters,cv=3)\n",
    "model_Bagging_best.fit(x_train, np.ravel(y_train))\n",
    "model_Bagging_best.best_score_, model_Bagging_best.best_params_\n",
    "\n",
    "feature = model_Bagging_best.best_params_['max_features']\n",
    "sample = model_Bagging_best.best_params_['max_samples']\n",
    "estimator = model_Bagging_best.best_params_['n_estimators']\n",
    "\n",
    "model_Bagging=BaggingClassifier(max_features=feature,max_samples=sample,n_estimators=estimator,random_state=1)\n",
    "model_Bagging.fit(x_train,np.ravel(y_train))\n",
    "model_Bagging.score(x_test,y_test)\n",
    "\n",
    "from sklearn.metrics import confusion_matrix\n",
    "y_pred_bag = model_Bagging.predict(x_test)\n",
    "\n",
    "tp, fn, fp, tn = confusion_matrix(np.array(y_test),y_pred_bag,labels=[1,0]).ravel()\n",
    "precision = round(tp/(tp+fp),2)\n",
    "tpr = round(tp/(tp+fn),2)\n",
    "f_score = round(2*precision*tpr/(precision+tpr),2)\n",
    "auc_score= round(roc_auc_score(y_test,y_pred_bag),2)\n",
    "\n",
    "print(\"Recall/TPR:\\t\\t\\t%1.2f proportion of employees actually leaving the company identified\"%(tpr))\n",
    "print(\"Precision:\\t\\t\\t%1.2f identified as attrition are leaving the company\"%(precision))\n",
    "print(\"f-score:\\t\\t\\t%1.2f capture both precision and recall\"%(f_score))\n",
    "print(\"roc_auc_score:\\t\\t\\t%1.2f the capability of a model in distinguishing the classes\"%(auc_score))\n",
    "\n",
    "key = (\"Iteration_1_original\",'bagging')\n",
    "Performance[key] = [tpr,precision,f_score,auc_score]\n"
   ]
  },
  {
   "cell_type": "markdown",
   "metadata": {
    "id": "H5LYuCkYUqVW"
   },
   "source": [
    "<h1>Handle unbalanced dataset:</h1>"
   ]
  },
  {
   "cell_type": "markdown",
   "metadata": {
    "id": "SaaB9F4q9AjB"
   },
   "source": [
    "<h2> Iteration 2- Near Miss Undersampling  </h2>"
   ]
  },
  {
   "cell_type": "code",
   "execution_count": 119,
   "metadata": {
    "colab": {
     "base_uri": "https://localhost:8080/",
     "height": 382
    },
    "id": "cBb5f5Rqo7Tr",
    "outputId": "999324b1-165e-430a-fdee-e85f420bcb48"
   },
   "outputs": [
    {
     "name": "stdout",
     "output_type": "stream",
     "text": [
      "Requirement already satisfied: imblearn in /Users/yajinggao/opt/anaconda3/lib/python3.8/site-packages (0.0)\r\n",
      "Requirement already satisfied: imbalanced-learn in /Users/yajinggao/opt/anaconda3/lib/python3.8/site-packages (from imblearn) (0.8.1)\r\n",
      "Requirement already satisfied: joblib>=0.11 in /Users/yajinggao/opt/anaconda3/lib/python3.8/site-packages (from imbalanced-learn->imblearn) (1.0.1)\r\n",
      "Requirement already satisfied: scikit-learn>=0.24 in /Users/yajinggao/opt/anaconda3/lib/python3.8/site-packages (from imbalanced-learn->imblearn) (0.24.1)\r\n",
      "Requirement already satisfied: numpy>=1.13.3 in /Users/yajinggao/opt/anaconda3/lib/python3.8/site-packages (from imbalanced-learn->imblearn) (1.20.1)\r\n",
      "Requirement already satisfied: scipy>=0.19.1 in /Users/yajinggao/opt/anaconda3/lib/python3.8/site-packages (from imbalanced-learn->imblearn) (1.6.2)\r\n",
      "Requirement already satisfied: threadpoolctl>=2.0.0 in /Users/yajinggao/opt/anaconda3/lib/python3.8/site-packages (from scikit-learn>=0.24->imbalanced-learn->imblearn) (2.1.0)\r\n"
     ]
    },
    {
     "data": {
      "text/plain": [
       "<seaborn.axisgrid.FacetGrid at 0x7fda44e3af70>"
      ]
     },
     "execution_count": 119,
     "metadata": {},
     "output_type": "execute_result"
    },
    {
     "data": {
      "image/png": "[encoded data removed]",
      "text/plain": [
       "<Figure size 360x360 with 1 Axes>"
      ]
     },
     "metadata": {},
     "output_type": "display_data"
    }
   ],
   "source": [
    "# undersampling: \n",
    "!pip install imblearn\n",
    "import imblearn\n",
    "from imblearn.under_sampling import NearMiss\n",
    "\n",
    "undersample = NearMiss(version=1)\n",
    "X, y = undersample.fit_resample(df2.iloc[0:,1:], df2[['Attrition']])\n",
    "df_new=pd.concat([y,X], axis=1)\n",
    "\n",
    "sns.set_theme(style=\"ticks\", color_codes=True)\n",
    "sns.catplot(x=\"Attrition\", kind=\"count\", palette=\"ch:.25\", data=df_new)\n"
   ]
  },
  {
   "cell_type": "code",
   "execution_count": 120,
   "metadata": {
    "id": "iIhT85x9o7YL"
   },
   "outputs": [],
   "source": [
    "from sklearn.model_selection import train_test_split\n",
    "train_new, test_new = train_test_split(df_new, test_size = 0.2, random_state = 1) \n",
    "# seperating data into 80% training and 20% testing sets\n",
    "\n",
    "x_train_new = train_new.iloc[0:,1:] \n",
    "y_train_new = train_new[['Attrition']] \n",
    "\n",
    "x_test_new = test_new.iloc[0:,1:]\n",
    "y_test_new = test_new[['Attrition']]\n"
   ]
  },
  {
   "cell_type": "markdown",
   "metadata": {
    "id": "BgxIaP888XUq"
   },
   "source": [
    "<h3> 2.1 Classfication Tree </h3>"
   ]
  },
  {
   "cell_type": "code",
   "execution_count": 121,
   "metadata": {
    "colab": {
     "base_uri": "https://localhost:8080/"
    },
    "id": "J5qw2ldAo7aS",
    "outputId": "caff6a7b-2fe0-45ec-b1c8-7e28878ea445"
   },
   "outputs": [
    {
     "name": "stdout",
     "output_type": "stream",
     "text": [
      "Recall/TPR:\t\t\t0.67 proportion of employees actually leaving the company identified\n",
      "Precision:\t\t\t0.82 identified as attrition are leaving the company\n",
      "f-score:\t\t\t0.74 capture both precision and recall\n",
      "roc_auc_score:\t\t\t0.76 the capability of a model in distinguishing the classes\n"
     ]
    }
   ],
   "source": [
    "from sklearn.tree import DecisionTreeClassifier \n",
    "from sklearn import tree\n",
    "\n",
    "model_classification_new = tree.DecisionTreeClassifier(max_depth = 3,criterion='entropy',random_state=1) # entropy: used for classify\n",
    "model_classification_new.fit(x_train_new,y_train_new)\n",
    "\n",
    "import numpy as np\n",
    "from sklearn.metrics import confusion_matrix\n",
    "classification_train_new = model_classification_new.predict(x_train_new)\n",
    "classification_test_new = model_classification_new.predict(x_test_new)\n",
    "\n",
    "tp, fn, fp, tn = confusion_matrix(np.array(y_test_new),classification_test_new,labels=[1,0]).ravel()\n",
    "precision = round(tp/(tp+fp),2)\n",
    "tpr = round(tp/(tp+fn),2)\n",
    "f_score = round(2*precision*tpr/(precision+tpr),2)\n",
    "auc_score= round(roc_auc_score(y_test_new,classification_test_new),2)\n",
    "\n",
    "print(\"Recall/TPR:\\t\\t\\t%1.2f proportion of employees actually leaving the company identified\"%(tpr))\n",
    "print(\"Precision:\\t\\t\\t%1.2f identified as attrition are leaving the company\"%(precision))\n",
    "print(\"f-score:\\t\\t\\t%1.2f capture both precision and recall\"%(f_score))\n",
    "print(\"roc_auc_score:\\t\\t\\t%1.2f the capability of a model in distinguishing the classes\"%(auc_score))\n",
    "\n",
    "key = (\"Iteration_2_undersampling\",'tree')\n",
    "Performance[key] = [tpr,precision,f_score,auc_score]\n",
    "\n",
    "#recall = predicted leave and truly leave / all people who leave \n",
    "# we want to restrict the fn(predict 0, actual 1)"
   ]
  },
  {
   "cell_type": "code",
   "execution_count": 122,
   "metadata": {
    "colab": {
     "base_uri": "https://localhost:8080/",
     "height": 301
    },
    "id": "yAlxgDdl4yv-",
    "outputId": "5876ad3d-cef1-4886-f8d9-a6f048aa515a"
   },
   "outputs": [
    {
     "data": {
      "image/png": "[encoded data removed]",
      "text/plain": [
       "<Figure size 432x288 with 2 Axes>"
      ]
     },
     "metadata": {},
     "output_type": "display_data"
    }
   ],
   "source": [
    "cm=confusion_matrix(np.array(y_test_new),classification_test_new,labels=[1,0]).ravel()\n",
    "import seaborn as sns\n",
    "import matplotlib.pyplot as plt     \n",
    "# fp: predict 1, fact 0 \n",
    "ax= plt.subplot()\n",
    "sns.heatmap(((tp,fn),(fp,tn)), annot=True, fmt='g', ax=ax);  #annot=True to annotate cells, ftm='g' to disable scientific notation\n",
    "\n",
    "# labels, title and ticks\n",
    "ax.set_xlabel('Predicted labels');ax.set_ylabel('True labels'); \n",
    "ax.set_title('Confusion Matrix'); \n",
    "ax.xaxis.set_ticklabels([\"Yes\",\"No\"]); ax.yaxis.set_ticklabels([\"Yes\",\"No\"]);"
   ]
  },
  {
   "cell_type": "markdown",
   "metadata": {
    "id": "ags0ZaM93d8x"
   },
   "source": [
    "<h3> 2.2 Random Forest </h3>"
   ]
  },
  {
   "cell_type": "code",
   "execution_count": 123,
   "metadata": {
    "colab": {
     "base_uri": "https://localhost:8080/"
    },
    "id": "7pheF7VNwMfJ",
    "outputId": "6f7128d0-f06f-400c-8620-af7f89d87963"
   },
   "outputs": [
    {
     "name": "stdout",
     "output_type": "stream",
     "text": [
      "Recall/TPR:\t\t\t0.73 proportion of employees actually leaving the company identified\n",
      "Precision:\t\t\t0.86 identified as attrition are leaving the company\n",
      "f-score:\t\t\t0.79 capture both precision and recall\n",
      "roc_auc_score:\t\t\t0.80 the capability of a model in distinguishing the classes\n"
     ]
    }
   ],
   "source": [
    "from sklearn.ensemble import RandomForestClassifier\n",
    "model_Random_Forests_new = RandomForestClassifier(max_depth=4,min_samples_leaf=4,min_samples_split=2,n_estimators=10,random_state=1)\n",
    "model_Random_Forests_new.fit(x_train_new,np.ravel(y_train_new))\n",
    "\n",
    "\n",
    "parameters = {\n",
    "     'n_estimators':(10, 30, 50),    \n",
    "     'max_depth':(4,5,6,8,10,15),    \n",
    "     'min_samples_split': (2, 4, 8), \n",
    "     'min_samples_leaf': (4,8,12,16) \n",
    "}\n",
    "model_randome_best_new = GridSearchCV(RandomForestClassifier(),parameters,cv=3)\n",
    "model_randome_best_new.fit(x_train_new, np.ravel(y_train_new))\n",
    "model_randome_best_new.best_score_, model_randome_best_new.best_params_\n",
    "\n",
    "depth = model_randome_best_new.best_params_['max_depth']\n",
    "leaf = model_randome_best_new.best_params_['min_samples_leaf']\n",
    "split = model_randome_best_new.best_params_['min_samples_split']\n",
    "estimator = model_randome_best_new.best_params_['n_estimators']\n",
    "\n",
    "model_Random_Forests_new = RandomForestClassifier(max_depth=depth,min_samples_leaf=leaf,min_samples_split=split,n_estimators=estimator,random_state=1)\n",
    "model_Random_Forests_new.fit(x_train_new,np.ravel(y_train_new))\n",
    "\n",
    "y_pred_rf_new = model_Random_Forests_new.predict(x_test_new)\n",
    "tp, fn, fp, tn = confusion_matrix(np.array(y_test_new),y_pred_rf_new,labels=[1,0]).ravel()\n",
    "precision = round(tp/(tp+fp),2)\n",
    "tpr = round(tp/(tp+fn),2)\n",
    "f_score = round(2*precision*tpr/(precision+tpr),2)\n",
    "auc_score= round(roc_auc_score(y_test_new,y_pred_rf_new),2)\n",
    "\n",
    "print(\"Recall/TPR:\\t\\t\\t%1.2f proportion of employees actually leaving the company identified\"%(tpr))\n",
    "print(\"Precision:\\t\\t\\t%1.2f identified as attrition are leaving the company\"%(precision))\n",
    "print(\"f-score:\\t\\t\\t%1.2f capture both precision and recall\"%(f_score))\n",
    "print(\"roc_auc_score:\\t\\t\\t%1.2f the capability of a model in distinguishing the classes\"%(auc_score))\n",
    "\n",
    "key = (\"Iteration_2_undersampling\",'random_forest')\n",
    "Performance[key] = [tpr,precision,f_score,auc_score]"
   ]
  },
  {
   "cell_type": "markdown",
   "metadata": {
    "id": "CQOWCbM87P3X"
   },
   "source": [
    "<h3> 2.3 Bagging </h3>"
   ]
  },
  {
   "cell_type": "code",
   "execution_count": 124,
   "metadata": {
    "colab": {
     "base_uri": "https://localhost:8080/"
    },
    "id": "Unpc9wbD5gI_",
    "outputId": "c9f4995e-1fab-4458-c81b-f88e66105b00"
   },
   "outputs": [
    {
     "name": "stdout",
     "output_type": "stream",
     "text": [
      "Recall/TPR:\t\t\t0.73 proportion of employees actually leaving the company identified\n",
      "Precision:\t\t\t0.80 identified as attrition are leaving the company\n",
      "f-score:\t\t\t0.76 capture both precision and recall\n",
      "roc_auc_score:\t\t\t0.77 the capability of a model in distinguishing the classes\n"
     ]
    }
   ],
   "source": [
    "from sklearn.ensemble import BaggingClassifier \n",
    "model_Bagging_new=BaggingClassifier()\n",
    "model_Bagging_new.fit(x_train_new,np.ravel(y_train_new))\n",
    "\n",
    "from sklearn.model_selection import GridSearchCV\n",
    "parameters = {\n",
    "     'n_estimators':(30, 50), \n",
    "     'max_samples':(30,40,50),\n",
    "     'max_features':(5,10,20), \n",
    "}\n",
    "\n",
    "model_Bagging_best_new = GridSearchCV(BaggingClassifier(),parameters,cv=3)\n",
    "model_Bagging_best_new.fit(x_train_new, np.ravel(y_train_new))\n",
    "model_Bagging_best_new.best_score_, model_Bagging_best_new.best_params_\n",
    "\n",
    "\n",
    "feature = model_Bagging_best_new.best_params_['max_features']\n",
    "sample = model_Bagging_best_new.best_params_['max_samples']\n",
    "estimator = model_Bagging_best_new.best_params_['n_estimators']\n",
    "\n",
    "model_Bagging_new=BaggingClassifier(max_features=feature,max_samples=sample,n_estimators=estimator,random_state=1)\n",
    "model_Bagging_new.fit(x_train_new,np.ravel(y_train_new))\n",
    "model_Bagging_new.score(x_test_new,y_test_new)\n",
    "\n",
    "from sklearn.metrics import confusion_matrix\n",
    "y_pred_bag_new = model_Bagging_new.predict(x_test_new)\n",
    "\n",
    "tp, fn, fp, tn = confusion_matrix(np.array(y_test_new),y_pred_bag_new,labels=[1,0]).ravel()\n",
    "precision = round(tp/(tp+fp),2)\n",
    "tpr = round(tp/(tp+fn),2)\n",
    "f_score = round(2*precision*tpr/(precision+tpr),2)\n",
    "auc_score= round(roc_auc_score(y_test_new,y_pred_bag_new),2)\n",
    "\n",
    "print(\"Recall/TPR:\\t\\t\\t%1.2f proportion of employees actually leaving the company identified\"%(tpr))\n",
    "print(\"Precision:\\t\\t\\t%1.2f identified as attrition are leaving the company\"%(precision))\n",
    "print(\"f-score:\\t\\t\\t%1.2f capture both precision and recall\"%(f_score))\n",
    "print(\"roc_auc_score:\\t\\t\\t%1.2f the capability of a model in distinguishing the classes\"%(auc_score))\n",
    "\n",
    "key = (\"Iteration_2_undersampling\",'bagging')\n",
    "Performance[key] = [tpr,precision,f_score,auc_score]"
   ]
  },
  {
   "cell_type": "code",
   "execution_count": 125,
   "metadata": {
    "colab": {
     "base_uri": "https://localhost:8080/",
     "height": 301
    },
    "id": "McRVPfEQ5gNA",
    "outputId": "8ba9dd86-a52d-442f-8fec-dbafc8125204"
   },
   "outputs": [
    {
     "data": {
      "image/png": "[encoded data removed]",
      "text/plain": [
       "<Figure size 432x288 with 2 Axes>"
      ]
     },
     "metadata": {},
     "output_type": "display_data"
    }
   ],
   "source": [
    "cm=confusion_matrix(np.array(y_test_new),y_pred_bag_new,labels=[1,0]).ravel()\n",
    "  \n",
    "# fp: predict 1, fact 0 \n",
    "ax= plt.subplot()\n",
    "sns.heatmap(((tp,fn),(fp,tn)), annot=True, fmt='g', ax=ax);  #annot=True to annotate cells, ftm='g' to disable scientific notation\n",
    "\n",
    "# labels, title and ticks\n",
    "ax.set_xlabel('Predicted labels');ax.set_ylabel('True labels'); \n",
    "ax.set_title('Confusion Matrix'); \n",
    "ax.xaxis.set_ticklabels([\"Yes\",\"No\"]); ax.yaxis.set_ticklabels([\"Yes\",\"No\"]);"
   ]
  },
  {
   "cell_type": "markdown",
   "metadata": {
    "id": "0SrvmKTY9GGG"
   },
   "source": [
    "<h2> Iteration 3: Synthetic Minority Over-sampling Technique (SMOTE)  </h2>"
   ]
  },
  {
   "cell_type": "code",
   "execution_count": 126,
   "metadata": {
    "colab": {
     "base_uri": "https://localhost:8080/",
     "height": 382
    },
    "id": "fpDU8pwz5gPG",
    "outputId": "4193ed76-36bb-4012-b156-7e2b64b5788e"
   },
   "outputs": [
    {
     "data": {
      "text/plain": [
       "<seaborn.axisgrid.FacetGrid at 0x7fda50348700>"
      ]
     },
     "execution_count": 126,
     "metadata": {},
     "output_type": "execute_result"
    },
    {
     "data": {
      "image/png": "[encoded data removed]",
      "text/plain": [
       "<Figure size 360x360 with 1 Axes>"
      ]
     },
     "metadata": {},
     "output_type": "display_data"
    }
   ],
   "source": [
    "from imblearn.over_sampling import SMOTE\n",
    "oversample = SMOTE()\n",
    "\n",
    "X, y = oversample.fit_resample(df2.iloc[0:,1:], df2[['Attrition']])\n",
    "df_new=pd.concat([y,X], axis=1)\n",
    "\n",
    "sns.set_theme(style=\"ticks\", color_codes=True)\n",
    "sns.catplot(x=\"Attrition\", kind=\"count\", palette=\"ch:.25\", data=df_new)\n"
   ]
  },
  {
   "cell_type": "code",
   "execution_count": 127,
   "metadata": {
    "id": "9Xo4TzT05gRO"
   },
   "outputs": [],
   "source": [
    "from sklearn.model_selection import train_test_split\n",
    "train_new, test_new = train_test_split(df_new, test_size = 0.2, random_state = 1) \n",
    "# seperating data into 80% training and 20% testing sets\n",
    "\n",
    "x_train_new = train_new.iloc[0:,1:] \n",
    "y_train_new = train_new[['Attrition']] \n",
    "\n",
    "x_test_new = test_new.iloc[0:,1:]\n",
    "y_test_new = test_new[['Attrition']]"
   ]
  },
  {
   "cell_type": "markdown",
   "metadata": {
    "id": "6k7GpfD-csnK"
   },
   "source": [
    "<h3> 3.1 Classfication Tree </h3>"
   ]
  },
  {
   "cell_type": "code",
   "execution_count": 128,
   "metadata": {
    "colab": {
     "base_uri": "https://localhost:8080/"
    },
    "id": "bhmJ2oHt5gTJ",
    "outputId": "4f58aa7c-26a6-4373-f29d-1b33f8904c89"
   },
   "outputs": [
    {
     "name": "stdout",
     "output_type": "stream",
     "text": [
      "Recall/TPR:\t\t\t0.76 proportion of employees actually leaving the company identified\n",
      "Precision:\t\t\t0.76 identified as attrition are leaving the company\n",
      "f-score:\t\t\t0.76 capture both precision and recall\n",
      "roc_auc_score:\t\t\t0.75 the capability of a model in distinguishing the classes\n"
     ]
    }
   ],
   "source": [
    "from sklearn.tree import DecisionTreeClassifier \n",
    "from sklearn import tree\n",
    "\n",
    "model_classification_new = tree.DecisionTreeClassifier(max_depth = 3,criterion='entropy',random_state=1) # entropy: used for classify\n",
    "model_classification_new.fit(x_train_new,y_train_new)\n",
    "\n",
    "import numpy as np\n",
    "from sklearn.metrics import confusion_matrix\n",
    "classification_train_new = model_classification_new.predict(x_train_new)\n",
    "classification_test_new = model_classification_new.predict(x_test_new)\n",
    "\n",
    "tp, fn, fp, tn = confusion_matrix(np.array(y_test_new),classification_test_new,labels=[1,0]).ravel()\n",
    "precision = round(tp/(tp+fp),2)\n",
    "tpr = round(tp/(tp+fn),2)\n",
    "f_score = round(2*precision*tpr/(precision+tpr),2)\n",
    "auc_score= round(roc_auc_score(y_test_new,classification_test_new),2)\n",
    "\n",
    "print(\"Recall/TPR:\\t\\t\\t%1.2f proportion of employees actually leaving the company identified\"%(tpr))\n",
    "print(\"Precision:\\t\\t\\t%1.2f identified as attrition are leaving the company\"%(precision))\n",
    "print(\"f-score:\\t\\t\\t%1.2f capture both precision and recall\"%(f_score))\n",
    "print(\"roc_auc_score:\\t\\t\\t%1.2f the capability of a model in distinguishing the classes\"%(auc_score))\n",
    "\n",
    "key = (\"Iteration_3_SMOTE\",'tree')\n",
    "Performance[key] = [tpr,precision,f_score,auc_score]"
   ]
  },
  {
   "cell_type": "code",
   "execution_count": 129,
   "metadata": {
    "colab": {
     "base_uri": "https://localhost:8080/",
     "height": 301
    },
    "id": "0yAjNTTUwMjg",
    "outputId": "f246ee07-6d9b-4dbb-e1da-09a058d7234b"
   },
   "outputs": [
    {
     "data": {
      "image/png": "[encoded data removed]",
      "text/plain": [
       "<Figure size 432x288 with 2 Axes>"
      ]
     },
     "metadata": {},
     "output_type": "display_data"
    }
   ],
   "source": [
    "cm=confusion_matrix(np.array(y_test_new),classification_test_new,labels=[1,0]).ravel()\n",
    "import seaborn as sns\n",
    "import matplotlib.pyplot as plt     \n",
    "# fp: predict 1, fact 0 \n",
    "ax= plt.subplot()\n",
    "sns.heatmap(((tp,fn),(fp,tn)), annot=True, fmt='g', ax=ax);  #annot=True to annotate cells, ftm='g' to disable scientific notation\n",
    "\n",
    "# labels, title and ticks\n",
    "ax.set_xlabel('Predicted labels');ax.set_ylabel('True labels'); \n",
    "ax.set_title('Confusion Matrix'); \n",
    "ax.xaxis.set_ticklabels([\"Yes\",\"No\"]); ax.yaxis.set_ticklabels([\"Yes\",\"No\"]);"
   ]
  },
  {
   "cell_type": "markdown",
   "metadata": {
    "id": "OHLXR2un0ZOa"
   },
   "source": [
    "<h3> 3.2 Random Forest </h3>"
   ]
  },
  {
   "cell_type": "code",
   "execution_count": 130,
   "metadata": {
    "colab": {
     "base_uri": "https://localhost:8080/"
    },
    "id": "Ch2MOZuWwMmH",
    "outputId": "bfe34ed4-bbea-4944-db82-ce62a3610f27"
   },
   "outputs": [
    {
     "name": "stdout",
     "output_type": "stream",
     "text": [
      "Recall/TPR:\t\t\t0.83 proportion of employees actually leaving the company identified\n",
      "Precision:\t\t\t0.89 identified as attrition are leaving the company\n",
      "f-score:\t\t\t0.86 capture both precision and recall\n",
      "roc_auc_score:\t\t\t0.86 the capability of a model in distinguishing the classes\n"
     ]
    }
   ],
   "source": [
    "model_Random_Forests_new = RandomForestClassifier(max_depth=4,min_samples_leaf=4,min_samples_split=2,n_estimators=10,random_state=1)\n",
    "model_Random_Forests_new.fit(x_train_new,np.ravel(y_train_new))\n",
    "\n",
    "\n",
    "parameters = {\n",
    "     'n_estimators':(10, 30, 50),    \n",
    "     'max_depth':(4,5,6,8,10,15),    \n",
    "     'min_samples_split': (2, 4, 8), \n",
    "     'min_samples_leaf': (4,8,12,16) \n",
    "}\n",
    "model_randome_best_new = GridSearchCV(RandomForestClassifier(),parameters,cv=3)\n",
    "model_randome_best_new.fit(x_train_new, np.ravel(y_train_new))\n",
    "model_randome_best_new.best_score_, model_randome_best_new.best_params_\n",
    "\n",
    "depth = model_randome_best_new.best_params_['max_depth']\n",
    "leaf = model_randome_best_new.best_params_['min_samples_leaf']\n",
    "split = model_randome_best_new.best_params_['min_samples_split']\n",
    "estimator = model_randome_best_new.best_params_['n_estimators']\n",
    "\n",
    "model_Random_Forests_new = RandomForestClassifier(max_depth=depth,min_samples_leaf=leaf,min_samples_split=split,n_estimators=estimator,random_state=1)\n",
    "model_Random_Forests_new.fit(x_train_new,np.ravel(y_train_new))\n",
    "\n",
    "y_pred_rf_new = model_Random_Forests_new.predict(x_test_new)\n",
    "tp, fn, fp, tn = confusion_matrix(np.array(y_test_new),y_pred_rf_new,labels=[1,0]).ravel()\n",
    "precision = round(tp/(tp+fp),2)\n",
    "tpr = round(tp/(tp+fn),2)\n",
    "f_score = round(2*precision*tpr/(precision+tpr),2)\n",
    "auc_score= round(roc_auc_score(y_test_new,y_pred_rf_new),2)\n",
    "\n",
    "print(\"Recall/TPR:\\t\\t\\t%1.2f proportion of employees actually leaving the company identified\"%(tpr))\n",
    "print(\"Precision:\\t\\t\\t%1.2f identified as attrition are leaving the company\"%(precision))\n",
    "print(\"f-score:\\t\\t\\t%1.2f capture both precision and recall\"%(f_score))\n",
    "print(\"roc_auc_score:\\t\\t\\t%1.2f the capability of a model in distinguishing the classes\"%(auc_score))\n",
    "\n",
    "key = (\"Iteration_3_SMOTE\",'random_forest')\n",
    "Performance[key] = [tpr,precision,f_score,auc_score]"
   ]
  },
  {
   "cell_type": "code",
   "execution_count": 131,
   "metadata": {
    "colab": {
     "base_uri": "https://localhost:8080/",
     "height": 753
    },
    "id": "3X4Jizsnj-k7",
    "outputId": "40343e3c-97bc-4cce-b793-5d2947c4b47a"
   },
   "outputs": [
    {
     "data": {
      "text/plain": [
       "Text(0.5, 0, 'Relative Importance')"
      ]
     },
     "execution_count": 131,
     "metadata": {},
     "output_type": "execute_result"
    },
    {
     "data": {
      "image/png": "[encoded data removed]",
      "text/plain": [
       "<Figure size 864x864 with 1 Axes>"
      ]
     },
     "metadata": {
      "needs_background": "light"
     },
     "output_type": "display_data"
    }
   ],
   "source": [
    "import matplotlib.pyplot as plt\n",
    "%matplotlib inline\n",
    "importances = model_Random_Forests_new.feature_importances_ \n",
    "indices = np.argsort(importances) \n",
    "\n",
    "feature_names = [key for key in df_new if not key == 'Attrition']\n",
    "plt.figure(figsize=(12,12))\n",
    "plt.title('Feature Importances - SMOTH- direct mapping')\n",
    "plt.barh(range(len(indices)), importances[indices], color='b', align='center') \n",
    "plt.yticks(range(len(indices)),np.array(feature_names)[indices])\n",
    "plt.xlabel('Relative Importance')"
   ]
  },
  {
   "cell_type": "markdown",
   "metadata": {
    "id": "-WGQ8m5b0fTv"
   },
   "source": [
    "<h3> 3.3 Bagging </h3>"
   ]
  },
  {
   "cell_type": "code",
   "execution_count": 132,
   "metadata": {
    "colab": {
     "base_uri": "https://localhost:8080/"
    },
    "id": "KBFJwOpkYfGZ",
    "outputId": "195deb19-7a04-42fc-dcb7-2e0b0f1857ac"
   },
   "outputs": [
    {
     "name": "stdout",
     "output_type": "stream",
     "text": [
      "Recall/TPR:\t\t\t0.77 proportion of employees actually leaving the company identified\n",
      "Precision:\t\t\t0.81 identified as attrition are leaving the company\n",
      "f-score:\t\t\t0.79 capture both precision and recall\n",
      "roc_auc_score:\t\t\t0.79 the capability of a model in distinguishing the classes\n"
     ]
    }
   ],
   "source": [
    "from sklearn.ensemble import BaggingClassifier \n",
    "model_Bagging_new=BaggingClassifier()\n",
    "model_Bagging_new.fit(x_train_new,np.ravel(y_train_new))\n",
    "\n",
    "from sklearn.model_selection import GridSearchCV\n",
    "parameters = {\n",
    "     'n_estimators':(30, 50), \n",
    "     'max_samples':(30,40,50),\n",
    "     'max_features':(5,10,20), \n",
    "}\n",
    "\n",
    "model_Bagging_best_new = GridSearchCV(BaggingClassifier(),parameters,cv=3)\n",
    "model_Bagging_best_new.fit(x_train_new, np.ravel(y_train_new))\n",
    "model_Bagging_best_new.best_score_, model_Bagging_best_new.best_params_\n",
    "\n",
    "\n",
    "feature = model_Bagging_best_new.best_params_['max_features']\n",
    "sample = model_Bagging_best_new.best_params_['max_samples']\n",
    "estimator = model_Bagging_best_new.best_params_['n_estimators']\n",
    "\n",
    "model_Bagging_new=BaggingClassifier(max_features=feature,max_samples=sample,n_estimators=estimator,random_state=1)\n",
    "model_Bagging_new.fit(x_train_new,np.ravel(y_train_new))\n",
    "model_Bagging_new.score(x_test_new,y_test_new)\n",
    "\n",
    "from sklearn.metrics import confusion_matrix\n",
    "y_pred_bag_new = model_Bagging_new.predict(x_test_new)\n",
    "\n",
    "tp, fn, fp, tn = confusion_matrix(np.array(y_test_new),y_pred_bag_new,labels=[1,0]).ravel()\n",
    "precision = round(tp/(tp+fp),2)\n",
    "tpr = round(tp/(tp+fn),2)\n",
    "f_score = round(2*precision*tpr/(precision+tpr),2)\n",
    "auc_score= round(roc_auc_score(y_test_new,y_pred_bag_new),2)\n",
    "\n",
    "print(\"Recall/TPR:\\t\\t\\t%1.2f proportion of employees actually leaving the company identified\"%(tpr))\n",
    "print(\"Precision:\\t\\t\\t%1.2f identified as attrition are leaving the company\"%(precision))\n",
    "print(\"f-score:\\t\\t\\t%1.2f capture both precision and recall\"%(f_score))\n",
    "print(\"roc_auc_score:\\t\\t\\t%1.2f the capability of a model in distinguishing the classes\"%(auc_score))\n",
    "\n",
    "key = (\"Iteration_3_SMOTE\",'bagging')\n",
    "Performance[key] = [tpr,precision,f_score,auc_score]"
   ]
  },
  {
   "cell_type": "markdown",
   "metadata": {
    "id": "JTHPDopXYhS8"
   },
   "source": [
    "<h2>Performance Comparison</h2>"
   ]
  },
  {
   "cell_type": "code",
   "execution_count": 133,
   "metadata": {
    "id": "UQy54isbYdkO"
   },
   "outputs": [],
   "source": [
    "Performance_outcome = pd.DataFrame(Performance).T\n",
    "Performance_outcome.columns=['Recall','Precision','f-score','AUC']\n"
   ]
  },
  {
   "cell_type": "code",
   "execution_count": 134,
   "metadata": {
    "colab": {
     "base_uri": "https://localhost:8080/",
     "height": 720
    },
    "id": "jAuAgRw4eYIJ",
    "outputId": "aa3f912a-2136-4bd5-ba48-bca36664809a"
   },
   "outputs": [
    {
     "data": {
      "image/png": "[encoded data removed]",
      "text/plain": [
       "<Figure size 864x864 with 4 Axes>"
      ]
     },
     "metadata": {
      "needs_background": "light"
     },
     "output_type": "display_data"
    }
   ],
   "source": [
    "COL_NUM = 2\n",
    "ROW_NUM = 2\n",
    "fig, axes = plt.subplots(ROW_NUM, COL_NUM, figsize=(12,12))\n",
    "\n",
    "#for i in Performance_outcome.columns:\n",
    "for i,measurement in enumerate(Performance_outcome.columns):\n",
    "  data= Performance_outcome[measurement]\n",
    "  ax=axes[int(i/COL_NUM), i%COL_NUM]\n",
    "  data.unstack().plot(kind='bar',ax=ax)\n",
    "  ax.set_title(measurement)\n",
    "  ax.set_xticklabels([\"1_ori\", \"2_undersampling\", \"3_SOMTE\", ], rotation=0)\n"
   ]
  },
  {
   "cell_type": "markdown",
   "metadata": {
    "id": "qk2PvN-Vle9W"
   },
   "source": [
    "<h1> Handling categorical data  </h1>\n",
    "<h2> Iteration 4: One hot encoding    </h2>\n"
   ]
  },
  {
   "cell_type": "code",
   "execution_count": 135,
   "metadata": {
    "colab": {
     "base_uri": "https://localhost:8080/",
     "height": 365
    },
    "id": "EcvYGZyHeYKW",
    "outputId": "75f614ce-547c-4784-9281-27f79835006e"
   },
   "outputs": [
    {
     "data": {
      "image/png": "[encoded data removed]",
      "text/plain": [
       "<Figure size 360x360 with 1 Axes>"
      ]
     },
     "metadata": {},
     "output_type": "display_data"
    }
   ],
   "source": [
    "#change categorical data to dummy variables:\n",
    "df_dummy = pd.get_dummies(df1,columns = ['BusinessTravel','Department','EducationField',\n",
    "                                        'Gender','JobRole','MaritalStatus','OverTime'])\n",
    "\n",
    "\n",
    "# baseline: \"BusinessTravel_Non-Travel\"\n",
    "df_dummy= df_dummy.drop(['BusinessTravel_Non-Travel'],axis=1)\n",
    "\n",
    "# baseline: \"Department_Human Resources\"\n",
    "df_dummy= df_dummy.drop(['Department_Human Resources'],axis=1)\n",
    "\n",
    "# baseline: \"EducationField_Human Resources\"\n",
    "df_dummy= df_dummy.drop(['EducationField_Human Resources'],axis=1)\n",
    "\n",
    "# baseline: \"JobRole_Sales Representative\"\n",
    "df_dummy= df_dummy.drop(['JobRole_Sales Representative'],axis=1)\n",
    "\n",
    "# baseline: \"MaritalStatus_Divorced\"\n",
    "df_dummy= df_dummy.drop(['MaritalStatus_Divorced'],axis=1)\n",
    "\n",
    "# baseline: \"Gender_Female\"\n",
    "df_dummy= df_dummy.drop(['Gender_Female'],axis=1)\n",
    "\n",
    "# baseline: \"OverTime_No\"\n",
    "df_dummy= df_dummy.drop(['OverTime_No'],axis=1)\n",
    "\n",
    "\n",
    "from imblearn.over_sampling import SMOTE\n",
    "oversample = SMOTE()\n",
    "\n",
    "X, y = oversample.fit_resample(df_dummy.iloc[0:,1:], df_dummy[['Attrition']])\n",
    "df_new=pd.concat([y,X], axis=1)\n",
    "\n",
    "sns.set_theme(style=\"ticks\", color_codes=True)\n",
    "sns.catplot(x=\"Attrition\", kind=\"count\", palette=\"ch:.25\", data=df_new)\n",
    "\n",
    "from sklearn.model_selection import train_test_split\n",
    "train_new, test_new = train_test_split(df_new, test_size = 0.2, random_state = 1) \n",
    "# seperating data into 80% training and 20% testing sets\n",
    "\n",
    "x_train_new = train_new.iloc[0:,1:] \n",
    "y_train_new = train_new[['Attrition']] \n",
    "\n",
    "x_test_new = test_new.iloc[0:,1:]\n",
    "y_test_new = test_new[['Attrition']]\n",
    "\n"
   ]
  },
  {
   "cell_type": "code",
   "execution_count": 136,
   "metadata": {
    "colab": {
     "base_uri": "https://localhost:8080/"
    },
    "id": "pLILuPAG-8Cq",
    "outputId": "dfd81c3f-11da-41e7-f022-c7fc4b2a35c2"
   },
   "outputs": [
    {
     "name": "stdout",
     "output_type": "stream",
     "text": [
      "Recall/TPR:\t\t\t0.84 proportion of employees actually leaving the company identified\n",
      "Precision:\t\t\t0.94 identified as attrition are leaving the company\n",
      "f-score:\t\t\t0.89 capture both precision and recall\n",
      "roc_auc_score:\t\t\t0.89 the capability of a model in distinguishing the classes\n"
     ]
    }
   ],
   "source": [
    "from sklearn.ensemble import RandomForestClassifier\n",
    "import numpy as np\n",
    "\n",
    "model_Random_Forests_new = RandomForestClassifier(max_depth=4,min_samples_leaf=4,min_samples_split=2,n_estimators=10,random_state=1)\n",
    "model_Random_Forests_new.fit(x_train_new,np.ravel(y_train_new))\n",
    "\n",
    "\n",
    "parameters = {\n",
    "     'n_estimators':(10, 30, 50),    \n",
    "     'max_depth':(4,5,6,8,10,15),    \n",
    "     'min_samples_split': (2, 4, 8), \n",
    "     'min_samples_leaf': (4,8,12,16) \n",
    "}\n",
    "model_randome_best_new = GridSearchCV(RandomForestClassifier(),parameters,cv=3)\n",
    "model_randome_best_new.fit(x_train_new, np.ravel(y_train_new))\n",
    "model_randome_best_new.best_score_, model_randome_best_new.best_params_\n",
    "\n",
    "depth = model_randome_best_new.best_params_['max_depth']\n",
    "leaf = model_randome_best_new.best_params_['min_samples_leaf']\n",
    "split = model_randome_best_new.best_params_['min_samples_split']\n",
    "estimator = model_randome_best_new.best_params_['n_estimators']\n",
    "\n",
    "model_Random_Forests_new = RandomForestClassifier(max_depth=depth,min_samples_leaf=leaf,min_samples_split=split,n_estimators=estimator,random_state=1)\n",
    "model_Random_Forests_new.fit(x_train_new,np.ravel(y_train_new))\n",
    "\n",
    "y_pred_rf_new = model_Random_Forests_new.predict(x_test_new)\n",
    "tp, fn, fp, tn = confusion_matrix(np.array(y_test_new),y_pred_rf_new,labels=[1,0]).ravel()\n",
    "precision = round(tp/(tp+fp),2)\n",
    "tpr = round(tp/(tp+fn),2)\n",
    "f_score = round(2*precision*tpr/(precision+tpr),2)\n",
    "auc_score= round(roc_auc_score(y_test_new,y_pred_rf_new),2)\n",
    "\n",
    "print(\"Recall/TPR:\\t\\t\\t%1.2f proportion of employees actually leaving the company identified\"%(tpr))\n",
    "print(\"Precision:\\t\\t\\t%1.2f identified as attrition are leaving the company\"%(precision))\n",
    "print(\"f-score:\\t\\t\\t%1.2f capture both precision and recall\"%(f_score))\n",
    "print(\"roc_auc_score:\\t\\t\\t%1.2f the capability of a model in distinguishing the classes\"%(auc_score))\n",
    "\n",
    "key = (\"Iteration_4_one_hot\",'random_forest')\n",
    "Performance[key] = [tpr,precision,f_score,auc_score]"
   ]
  },
  {
   "cell_type": "code",
   "execution_count": 137,
   "metadata": {
    "colab": {
     "base_uri": "https://localhost:8080/"
    },
    "id": "PUBmxI7QTDLJ",
    "outputId": "b80dd949-2cf6-493a-b040-79eaa22c5273"
   },
   "outputs": [
    {
     "data": {
      "text/plain": [
       "{('Iteration_1_original', 'tree'): [0.14, 0.67, 0.23, 0.56],\n",
       " ('Iteration_1_original', 'random_forest'): [0.22, 0.76, 0.34, 0.6],\n",
       " ('Iteration_1_original', 'bagging'): [0.09, 0.71, 0.16, 0.54],\n",
       " ('Iteration_2_undersampling', 'tree'): [0.67, 0.82, 0.74, 0.76],\n",
       " ('Iteration_2_undersampling', 'random_forest'): [0.73, 0.86, 0.79, 0.8],\n",
       " ('Iteration_2_undersampling', 'bagging'): [0.73, 0.8, 0.76, 0.77],\n",
       " ('Iteration_3_SMOTE', 'tree'): [0.76, 0.76, 0.76, 0.75],\n",
       " ('Iteration_3_SMOTE', 'random_forest'): [0.83, 0.89, 0.86, 0.86],\n",
       " ('Iteration_3_SMOTE', 'bagging'): [0.77, 0.81, 0.79, 0.79],\n",
       " ('Iteration_4_one_hot', 'random_forest'): [0.84, 0.94, 0.89, 0.89]}"
      ]
     },
     "execution_count": 137,
     "metadata": {},
     "output_type": "execute_result"
    }
   ],
   "source": [
    "Performance"
   ]
  },
  {
   "cell_type": "code",
   "execution_count": 138,
   "metadata": {
    "colab": {
     "base_uri": "https://localhost:8080/",
     "height": 363
    },
    "id": "GXNbLQykXLIE",
    "outputId": "22a5fe4c-d3e9-46a7-d6ab-f4621b4e64a5"
   },
   "outputs": [
    {
     "data": {
      "text/html": [
       "<div>\n",
       "<style scoped>\n",
       "    .dataframe tbody tr th:only-of-type {\n",
       "        vertical-align: middle;\n",
       "    }\n",
       "\n",
       "    .dataframe tbody tr th {\n",
       "        vertical-align: top;\n",
       "    }\n",
       "\n",
       "    .dataframe thead th {\n",
       "        text-align: right;\n",
       "    }\n",
       "</style>\n",
       "<table border=\"1\" class=\"dataframe\">\n",
       "  <thead>\n",
       "    <tr style=\"text-align: right;\">\n",
       "      <th></th>\n",
       "      <th></th>\n",
       "      <th>Recall</th>\n",
       "      <th>Precision</th>\n",
       "      <th>f-score</th>\n",
       "      <th>AUC</th>\n",
       "    </tr>\n",
       "  </thead>\n",
       "  <tbody>\n",
       "    <tr>\n",
       "      <th rowspan=\"3\" valign=\"top\">Iteration_1_original</th>\n",
       "      <th>tree</th>\n",
       "      <td>0.14</td>\n",
       "      <td>0.67</td>\n",
       "      <td>0.23</td>\n",
       "      <td>0.56</td>\n",
       "    </tr>\n",
       "    <tr>\n",
       "      <th>random_forest</th>\n",
       "      <td>0.22</td>\n",
       "      <td>0.76</td>\n",
       "      <td>0.34</td>\n",
       "      <td>0.60</td>\n",
       "    </tr>\n",
       "    <tr>\n",
       "      <th>bagging</th>\n",
       "      <td>0.09</td>\n",
       "      <td>0.71</td>\n",
       "      <td>0.16</td>\n",
       "      <td>0.54</td>\n",
       "    </tr>\n",
       "    <tr>\n",
       "      <th rowspan=\"3\" valign=\"top\">Iteration_2_undersampling</th>\n",
       "      <th>tree</th>\n",
       "      <td>0.67</td>\n",
       "      <td>0.82</td>\n",
       "      <td>0.74</td>\n",
       "      <td>0.76</td>\n",
       "    </tr>\n",
       "    <tr>\n",
       "      <th>random_forest</th>\n",
       "      <td>0.73</td>\n",
       "      <td>0.86</td>\n",
       "      <td>0.79</td>\n",
       "      <td>0.80</td>\n",
       "    </tr>\n",
       "    <tr>\n",
       "      <th>bagging</th>\n",
       "      <td>0.73</td>\n",
       "      <td>0.80</td>\n",
       "      <td>0.76</td>\n",
       "      <td>0.77</td>\n",
       "    </tr>\n",
       "    <tr>\n",
       "      <th rowspan=\"3\" valign=\"top\">Iteration_3_SMOTE</th>\n",
       "      <th>tree</th>\n",
       "      <td>0.76</td>\n",
       "      <td>0.76</td>\n",
       "      <td>0.76</td>\n",
       "      <td>0.75</td>\n",
       "    </tr>\n",
       "    <tr>\n",
       "      <th>random_forest</th>\n",
       "      <td>0.83</td>\n",
       "      <td>0.89</td>\n",
       "      <td>0.86</td>\n",
       "      <td>0.86</td>\n",
       "    </tr>\n",
       "    <tr>\n",
       "      <th>bagging</th>\n",
       "      <td>0.77</td>\n",
       "      <td>0.81</td>\n",
       "      <td>0.79</td>\n",
       "      <td>0.79</td>\n",
       "    </tr>\n",
       "    <tr>\n",
       "      <th>Iteration_4_one_hot</th>\n",
       "      <th>random_forest</th>\n",
       "      <td>0.84</td>\n",
       "      <td>0.94</td>\n",
       "      <td>0.89</td>\n",
       "      <td>0.89</td>\n",
       "    </tr>\n",
       "  </tbody>\n",
       "</table>\n",
       "</div>"
      ],
      "text/plain": [
       "                                         Recall  Precision  f-score   AUC\n",
       "Iteration_1_original      tree             0.14       0.67     0.23  0.56\n",
       "                          random_forest    0.22       0.76     0.34  0.60\n",
       "                          bagging          0.09       0.71     0.16  0.54\n",
       "Iteration_2_undersampling tree             0.67       0.82     0.74  0.76\n",
       "                          random_forest    0.73       0.86     0.79  0.80\n",
       "                          bagging          0.73       0.80     0.76  0.77\n",
       "Iteration_3_SMOTE         tree             0.76       0.76     0.76  0.75\n",
       "                          random_forest    0.83       0.89     0.86  0.86\n",
       "                          bagging          0.77       0.81     0.79  0.79\n",
       "Iteration_4_one_hot       random_forest    0.84       0.94     0.89  0.89"
      ]
     },
     "execution_count": 138,
     "metadata": {},
     "output_type": "execute_result"
    }
   ],
   "source": [
    "Performance_outcome = pd.DataFrame(Performance).T\n",
    "Performance_outcome.columns=['Recall','Precision','f-score','AUC']\n",
    "Performance_outcome"
   ]
  },
  {
   "cell_type": "code",
   "execution_count": 139,
   "metadata": {
    "colab": {
     "base_uri": "https://localhost:8080/",
     "height": 112
    },
    "id": "77kUe6IQXZEh",
    "outputId": "2c6e9d0c-7ad7-48b2-f6ca-e6d8dcfcc9e3"
   },
   "outputs": [
    {
     "data": {
      "text/html": [
       "<div>\n",
       "<style scoped>\n",
       "    .dataframe tbody tr th:only-of-type {\n",
       "        vertical-align: middle;\n",
       "    }\n",
       "\n",
       "    .dataframe tbody tr th {\n",
       "        vertical-align: top;\n",
       "    }\n",
       "\n",
       "    .dataframe thead th {\n",
       "        text-align: right;\n",
       "    }\n",
       "</style>\n",
       "<table border=\"1\" class=\"dataframe\">\n",
       "  <thead>\n",
       "    <tr style=\"text-align: right;\">\n",
       "      <th></th>\n",
       "      <th></th>\n",
       "      <th>Recall</th>\n",
       "      <th>Precision</th>\n",
       "      <th>f-score</th>\n",
       "      <th>AUC</th>\n",
       "    </tr>\n",
       "  </thead>\n",
       "  <tbody>\n",
       "    <tr>\n",
       "      <th>Iteration_3_SMOTE</th>\n",
       "      <th>random_forest</th>\n",
       "      <td>0.83</td>\n",
       "      <td>0.89</td>\n",
       "      <td>0.86</td>\n",
       "      <td>0.86</td>\n",
       "    </tr>\n",
       "    <tr>\n",
       "      <th>Iteration_4_one_hot</th>\n",
       "      <th>random_forest</th>\n",
       "      <td>0.84</td>\n",
       "      <td>0.94</td>\n",
       "      <td>0.89</td>\n",
       "      <td>0.89</td>\n",
       "    </tr>\n",
       "  </tbody>\n",
       "</table>\n",
       "</div>"
      ],
      "text/plain": [
       "                                   Recall  Precision  f-score   AUC\n",
       "Iteration_3_SMOTE   random_forest    0.83       0.89     0.86  0.86\n",
       "Iteration_4_one_hot random_forest    0.84       0.94     0.89  0.89"
      ]
     },
     "execution_count": 139,
     "metadata": {},
     "output_type": "execute_result"
    }
   ],
   "source": [
    "Performance_outcome.iloc[[7,9]]"
   ]
  },
  {
   "cell_type": "markdown",
   "metadata": {
    "id": "yqGLj73udUwj"
   },
   "source": [
    "**Conclusion**: Using one hot encoding improve the model performance"
   ]
  },
  {
   "cell_type": "code",
   "execution_count": 140,
   "metadata": {
    "colab": {
     "base_uri": "https://localhost:8080/",
     "height": 753
    },
    "id": "FVEIf7DJxZeL",
    "outputId": "7049c965-7b5f-43dd-f744-9d75d366319f"
   },
   "outputs": [
    {
     "data": {
      "text/plain": [
       "Text(0.5, 0, 'Relative Importance')"
      ]
     },
     "execution_count": 140,
     "metadata": {},
     "output_type": "execute_result"
    },
    {
     "data": {
      "image/png": "[encoded data removed]",
      "text/plain": [
       "<Figure size 864x864 with 1 Axes>"
      ]
     },
     "metadata": {
      "needs_background": "light"
     },
     "output_type": "display_data"
    }
   ],
   "source": [
    "import matplotlib.pyplot as plt\n",
    "%matplotlib inline\n",
    "importances = model_Random_Forests_new.feature_importances_ \n",
    "indices = np.argsort(importances) \n",
    "\n",
    "feature_names = [key for key in df_dummy if not key == 'Attrition']\n",
    "plt.figure(figsize=(12,12))\n",
    "plt.title('Feature Importances')\n",
    "plt.barh(range(len(indices)), importances[indices], color='b', align='center') \n",
    "plt.yticks(range(len(indices)),np.array(feature_names)[indices])\n",
    "plt.xlabel('Relative Importance')"
   ]
  },
  {
   "cell_type": "markdown",
   "metadata": {
    "id": "x6B28Qe-donX"
   },
   "source": [
    "Find out the top 5 determined factors:"
   ]
  },
  {
   "cell_type": "code",
   "execution_count": 141,
   "metadata": {
    "colab": {
     "base_uri": "https://localhost:8080/"
    },
    "id": "zmsVmbz4aO1O",
    "outputId": "5060c1cc-f712-4ba4-bb9d-e79c659ac92b"
   },
   "outputs": [
    {
     "data": {
      "text/plain": [
       "array(['StockOptionLevel', 'MaritalStatus_Married', 'MonthlyIncome',\n",
       "       'JobSatisfaction', 'EnvironmentSatisfaction'], dtype='<U33')"
      ]
     },
     "execution_count": 141,
     "metadata": {},
     "output_type": "execute_result"
    }
   ],
   "source": [
    "indices_impor = indices[-5:]\n",
    "impor_feature =np.array(feature_names)[indices_impor]\n",
    "impor_feature = impor_feature[::-1] \n",
    "impor_feature"
   ]
  },
  {
   "cell_type": "markdown",
   "metadata": {
    "id": "AAetFW72noqG"
   },
   "source": [
    "<h2>INSIGHTS: </h2>\n"
   ]
  },
  {
   "cell_type": "markdown",
   "metadata": {
    "id": "GHgeSTxafyae"
   },
   "source": [
    "<h3> StockOptionLevel and Attrition </h3>"
   ]
  },
  {
   "cell_type": "code",
   "execution_count": 142,
   "metadata": {
    "colab": {
     "base_uri": "https://localhost:8080/",
     "height": 478
    },
    "id": "qrOe6NKTji1h",
    "outputId": "6b088edb-03e0-48da-a308-86c94e0d8067"
   },
   "outputs": [
    {
     "data": {
      "text/plain": [
       "<AxesSubplot:title={'center':'Attrition rate by StockOptionLevel'}, xlabel='Attrition'>"
      ]
     },
     "execution_count": 142,
     "metadata": {},
     "output_type": "execute_result"
    },
    {
     "data": {
      "image/png": "[encoded data removed]",
      "text/plain": [
       "<Figure size 504x504 with 1 Axes>"
      ]
     },
     "metadata": {
      "needs_background": "light"
     },
     "output_type": "display_data"
    }
   ],
   "source": [
    "att_stock = df_new.groupby(['Attrition','StockOptionLevel'])\n",
    "att_stock .size().unstack().plot(kind='bar',title=\"Attrition rate by StockOptionLevel\",figsize=(7,7))"
   ]
  },
  {
   "cell_type": "code",
   "execution_count": 143,
   "metadata": {
    "colab": {
     "base_uri": "https://localhost:8080/",
     "height": 536
    },
    "id": "78DAHppfrjI9",
    "outputId": "5fed4e9f-5f01-4c94-9776-e63a51fb5f15"
   },
   "outputs": [
    {
     "data": {
      "text/plain": [
       "([<matplotlib.axis.XTick at 0x7fda20a5a1f0>,\n",
       "  <matplotlib.axis.XTick at 0x7fda20a5a1c0>],\n",
       " [Text(0, 0, 'stay'), Text(1, 0, 'leave')])"
      ]
     },
     "execution_count": 143,
     "metadata": {},
     "output_type": "execute_result"
    },
    {
     "data": {
      "image/png": "[encoded data removed]",
      "text/plain": [
       "<Figure size 504x504 with 1 Axes>"
      ]
     },
     "metadata": {
      "needs_background": "light"
     },
     "output_type": "display_data"
    }
   ],
   "source": [
    "import matplotlib.pyplot as plt\n",
    "%matplotlib inline\n",
    "\n",
    "att_marry = df_new.groupby(['Attrition','MaritalStatus_Married'])\n",
    "att_marry.size().unstack().plot(kind='bar',title=\"Attrition rate by MaritalStatus\",figsize=(7,7))\n",
    "plt.xticks([0,1],['stay','leave'])"
   ]
  },
  {
   "cell_type": "code",
   "execution_count": 144,
   "metadata": {
    "id": "BWCN-SRowgXw"
   },
   "outputs": [
    {
     "data": {
      "text/plain": [
       "([<matplotlib.axis.XTick at 0x7fda502e1df0>,\n",
       "  <matplotlib.axis.XTick at 0x7fda502e1dc0>],\n",
       " [Text(0, 0, 'stay'), Text(1, 0, 'leave')])"
      ]
     },
     "execution_count": 144,
     "metadata": {},
     "output_type": "execute_result"
    },
    {
     "data": {
      "image/png": "[encoded data removed]",
      "text/plain": [
       "<Figure size 504x504 with 1 Axes>"
      ]
     },
     "metadata": {
      "needs_background": "light"
     },
     "output_type": "display_data"
    }
   ],
   "source": [
    "import matplotlib.pyplot as plt\n",
    "%matplotlib inline\n",
    "\n",
    "att_marry = df_new.groupby(['Attrition','MaritalStatus_Married'])\n",
    "att_marry.size().unstack().plot(kind='bar',title=\"Attrition rate by MaritalStatus\",figsize=(7,7))\n",
    "plt.xticks([0,1],['stay','leave'])"
   ]
  },
  {
   "cell_type": "markdown",
   "metadata": {
    "id": "21gev6_dYNYm"
   },
   "source": [
    "<h3> Monthly Income and Attrition </h3>"
   ]
  },
  {
   "cell_type": "code",
   "execution_count": 145,
   "metadata": {
    "colab": {
     "base_uri": "https://localhost:8080/",
     "height": 298
    },
    "id": "i8F_eNuNXQOy",
    "outputId": "9eb46d0f-8bad-4bcb-83a9-8ab158ac7e2a"
   },
   "outputs": [
    {
     "data": {
      "image/png": "[encoded data removed]",
      "text/plain": [
       "<Figure size 432x288 with 1 Axes>"
      ]
     },
     "metadata": {
      "needs_background": "light"
     },
     "output_type": "display_data"
    },
    {
     "data": {
      "text/plain": [
       "<Figure size 432x288 with 0 Axes>"
      ]
     },
     "metadata": {},
     "output_type": "display_data"
    }
   ],
   "source": [
    "import matplotlib.pyplot as plt\n",
    "%matplotlib inline\n",
    "\n",
    "plt.scatter(df2['MonthlyIncome'],df1['Attrition'],s=1,color='r')\n",
    "plt.title(\"Distribution of monthlyincome, by attrition\")\n",
    "plt.show()\n",
    "plt.clf()\n",
    "\n",
    "# seems like people who leave always get lower income "
   ]
  },
  {
   "cell_type": "markdown",
   "metadata": {},
   "source": [
    "<h3> Age and Attrition </h3>"
   ]
  },
  {
   "cell_type": "code",
   "execution_count": 146,
   "metadata": {
    "colab": {
     "base_uri": "https://localhost:8080/",
     "height": 478
    },
    "id": "FZN_GppsaFlP",
    "outputId": "7b6c869e-7107-48d1-e8a2-158ea61650be"
   },
   "outputs": [
    {
     "data": {
      "text/plain": [
       "<AxesSubplot:title={'center':'stay-leave, age distribution, after SMOTH'}, xlabel='Age'>"
      ]
     },
     "execution_count": 146,
     "metadata": {},
     "output_type": "execute_result"
    },
    {
     "data": {
      "image/png": "[encoded data removed]",
      "text/plain": [
       "<Figure size 504x504 with 1 Axes>"
      ]
     },
     "metadata": {
      "needs_background": "light"
     },
     "output_type": "display_data"
    }
   ],
   "source": [
    "job_age = df_new.groupby(['Attrition','Age'])\n",
    "job_age_count= job_age.size()\n",
    "\n",
    "job_age_stay=job_age_count.loc[[0]].reset_index('Attrition')[0]\n",
    "job_age_leave=job_age_count.loc[[1]].reset_index('Attrition')[0]\n",
    "job_age_diff= job_age_stay-job_age_leave\n",
    "\n",
    "job_age_diff.plot(kind='bar',title=\"stay-leave, age distribution, after SMOTH\",figsize=(7,7))\n",
    "\n",
    "# younger employees are more unstale than older employees"
   ]
  },
  {
   "cell_type": "markdown",
   "metadata": {},
   "source": [
    "<h3> Word Cloud </h3>"
   ]
  },
  {
   "cell_type": "code",
   "execution_count": 147,
   "metadata": {
    "colab": {
     "base_uri": "https://localhost:8080/",
     "height": 248
    },
    "id": "oQR_zcjGhepL",
    "outputId": "4023c461-e8c0-4e2b-dd76-1e4d521f4c86"
   },
   "outputs": [
    {
     "name": "stdout",
     "output_type": "stream",
     "text": [
      "Requirement already satisfied: wordcloud in /Users/yajinggao/opt/anaconda3/lib/python3.8/site-packages (1.6.0)\r\n",
      "Requirement already satisfied: numpy>=1.6.1 in /Users/yajinggao/opt/anaconda3/lib/python3.8/site-packages (from wordcloud) (1.20.1)\r\n",
      "Requirement already satisfied: matplotlib in /Users/yajinggao/opt/anaconda3/lib/python3.8/site-packages (from wordcloud) (3.3.4)\r\n",
      "Requirement already satisfied: pillow in /Users/yajinggao/opt/anaconda3/lib/python3.8/site-packages (from wordcloud) (8.2.0)\r\n",
      "Requirement already satisfied: cycler>=0.10 in /Users/yajinggao/opt/anaconda3/lib/python3.8/site-packages (from matplotlib->wordcloud) (0.10.0)\r\n",
      "Requirement already satisfied: kiwisolver>=1.0.1 in /Users/yajinggao/opt/anaconda3/lib/python3.8/site-packages (from matplotlib->wordcloud) (1.3.1)\r\n",
      "Requirement already satisfied: pyparsing!=2.0.4,!=2.1.2,!=2.1.6,>=2.0.3 in /Users/yajinggao/opt/anaconda3/lib/python3.8/site-packages (from matplotlib->wordcloud) (2.4.7)\r\n",
      "Requirement already satisfied: python-dateutil>=2.1 in /Users/yajinggao/opt/anaconda3/lib/python3.8/site-packages (from matplotlib->wordcloud) (2.8.1)\r\n",
      "Requirement already satisfied: six in /Users/yajinggao/opt/anaconda3/lib/python3.8/site-packages (from cycler>=0.10->matplotlib->wordcloud) (1.15.0)\r\n"
     ]
    },
    {
     "data": {
      "image/png": "[encoded data removed]",
      "text/plain": [
       "<Figure size 432x288 with 1 Axes>"
      ]
     },
     "metadata": {
      "needs_background": "light"
     },
     "output_type": "display_data"
    }
   ],
   "source": [
    "!pip install wordcloud\n",
    "from wordcloud import WordCloud, STOPWORDS\n",
    "import matplotlib.pyplot as plt\n",
    "%matplotlib inline\n",
    "import pandas as pd\n",
    "\n",
    "text=\"I thought long and hard about this. I tried very hard to be fair when considering cons to avoid being biased about this. As of the time I wrote this review, there is only ONE con that I can think of... and that is remote work 100% of the time is NOT possible outside of the pandemic. They will require you to physically go to the office in the future once COVID is under control. Aside from that, IBM is truly a one-of-a-kind company to work for.No issue only salary hike is not good,low salary of existing employees,Less or Stagnated Career Growth, LOng hours depending on workloads,Little less salary compared to its revivals but with lot of freedom, Heavy red tape.  Cut throat.  Must manage your own career.  Need to find your tribe otherwise the machine will chew you up.  Very short term / quarterly focus.  Aggressive sales culture, at the cost of developing long term client relationships.  Senior management rotates regularly , reinforcing short term results versus building sustainable businesses. Depending on your team, you may have meetings either very early in the morning or very late in the day. This is due to the global nature of some teams. Dental Benefits could be better. Little coverage for 'major' surgeries.toxic manager, The innovative spirit no longer exists as it once did. The goals and projects are all aligned with perception in the cloud market, where there hasn't been much focus on IBM creating its own new frontier. To this, competitors are able to take advantage of this opportunity by offering better compensation packages and more interesting projects to work on. Although, you are at the mercy of the decisions made by leadership with respect to how the company grows in relation to the market and competitors. The biggest con is going from a cloud leader to not being in the BIG three anymore where pride has taken a hit, especially if you were in it from the start. But every day we work hard to push IBM to the front of the line again and one day we shall be again. slow, very bureaucratic, many tools that are hard to decipher and manage. Requirements for moving up the band system are defined too broadly. For example, there are docs and even badges for Software Engineer career paths, but there is no distinction between Cloud engineers and Z (Mainframe) engineers, even though the type and scope of work is vastly different between them.\"\n",
    "#text=pd.read_csv('negative_comment.txt', header=None)\n",
    "wordcloud = WordCloud(stopwords=STOPWORDS,background_color='white',width=3000,height=3000).generate(text)\n",
    "\n",
    "\n",
    "plt.imshow(wordcloud)\n",
    "plt.axis('off')\n",
    "plt.show()\n"
   ]
  },
  {
   "cell_type": "code",
   "execution_count": null,
   "metadata": {},
   "outputs": [],
   "source": []
  }
 ],
 "metadata": {
  "anaconda-cloud": {},
  "colab": {
   "collapsed_sections": [],
   "name": "da project - attrition .ipynb",
   "provenance": []
  },
  "kernelspec": {
   "display_name": "Python 3",
   "language": "python",
   "name": "python3"
  },
  "language_info": {
   "codemirror_mode": {
    "name": "ipython",
    "version": 3
   },
   "file_extension": ".py",
   "mimetype": "text/x-python",
   "name": "python",
   "nbconvert_exporter": "python",
   "pygments_lexer": "ipython3",
   "version": "3.8.8"
  }
 },
 "nbformat": 4,
 "nbformat_minor": 1
}
